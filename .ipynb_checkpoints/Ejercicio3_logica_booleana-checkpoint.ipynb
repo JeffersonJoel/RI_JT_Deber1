{
 "cells": [
  {
   "cell_type": "code",
   "execution_count": 1,
   "id": "c7e9ca05",
   "metadata": {},
   "outputs": [],
   "source": [
    "import os\n",
    "import re\n",
    "import inflect"
   ]
  },
  {
   "cell_type": "code",
   "execution_count": 2,
   "id": "cb0d57a7",
   "metadata": {},
   "outputs": [],
   "source": [
    "def crear_matriz(carpeta):\n",
    "    fila_palabras = []\n",
    "    matriz = []\n",
    "    columna_documentos = []\n",
    "\n",
    "    inflect_engine = inflect.engine()\n",
    "    \n",
    "    for archivo in os.listdir(carpeta):\n",
    "        if archivo.endswith(\".txt\"):\n",
    "            columna_documentos.append(archivo)\n",
    "            print(archivo + \"Primera Revision\")\n",
    "            ruta_archivo = os.path.join(carpeta, archivo)\n",
    "            \n",
    "            with open(ruta_archivo, \"r\", encoding=\"utf-8\") as file:\n",
    "                contenido = file.read().lower()\n",
    "                \n",
    "                # Utilizar expresión regular para extraer palabras\n",
    "                palabras = re.findall(r'\\b[a-zA-Z]+\\b', contenido)\n",
    "                \n",
    "                # Singularizar y añadir a fila_palabras_temporal\n",
    "                fila_palabras_temporal = set(inflect_engine.singular_noun(palabra) or palabra for palabra in palabras)\n",
    "            \n",
    "                # Singularizar y añadir a fila_palabras\n",
    "                for palabra in palabras:\n",
    "                    palabra_singular = inflect_engine.singular_noun(palabra) or palabra\n",
    "                    if palabra_singular not in fila_palabras:\n",
    "                        fila_palabras.append(palabra_singular)\n",
    "    \n",
    "    # Inicializar la matriz con ceros\n",
    "    matriz = [[0 for _ in range(len(columna_documentos))] for _ in range(len(fila_palabras))]\n",
    "\n",
    "    # Rellenar la matriz con la información de los documentos\n",
    "    for col_idx, archivo in enumerate(columna_documentos):\n",
    "        print(archivo + \"Segunda Revision\")\n",
    "        ruta_archivo = os.path.join(carpeta, archivo)\n",
    "        \n",
    "        with open(ruta_archivo, \"r\", encoding=\"utf-8\") as file:\n",
    "            contenido = file.read().lower()\n",
    "            \n",
    "            # Utilizar expresión regular para extraer palabras\n",
    "            palabras = re.findall(r'\\b[a-zA-Z]+\\b', contenido)\n",
    "            \n",
    "            # Singularizar palabras\n",
    "            palabras_singularizadas = set(inflect_engine.singular_noun(palabra) or palabra for palabra in palabras)\n",
    "            \n",
    "            # Actualizar la matriz para las palabras presentes en el documento actual\n",
    "            for palabra in palabras_singularizadas:\n",
    "                if palabra in fila_palabras:\n",
    "                    fila_idx = fila_palabras.index(palabra)\n",
    "                    matriz[fila_idx][col_idx] = 1\n",
    "    \n",
    "    return columna_documentos, fila_palabras, matriz\n"
   ]
  },
  {
   "cell_type": "code",
   "execution_count": 35,
   "id": "d20cbe81",
   "metadata": {},
   "outputs": [],
   "source": [
    "def buscar_palabra(consulta, columna_documentos, fila_palabras, matriz):\n",
    "    inflect_engine = inflect.engine()\n",
    "    \n",
    "    def obtener_fila_palabra(palabra):\n",
    "        palabra_singular = inflect_engine.singular_noun(palabra.lower()) or palabra.lower()\n",
    "        if palabra_singular in fila_palabras:\n",
    "            fila_idx = fila_palabras.index(palabra_singular)\n",
    "            return matriz[fila_idx]\n",
    "        else:\n",
    "            return [0] * len(columna_documentos)\n",
    "    \n",
    "    def parsear_consulta(consulta):\n",
    "        consulta = consulta.upper()\n",
    "        tokens = re.split(r'\\s+(AND|OR|NOT)\\s+', consulta)\n",
    "        print(tokens)\n",
    "        return tokens\n",
    "\n",
    "    def aplicar_operacion_logica(operacion, filas):\n",
    "        if operacion == \"AND\":\n",
    "            return list(map(int, map(all, zip(*filas))))\n",
    "        elif operacion == \"OR\":\n",
    "            return list(map(int, map(any, zip(*filas))))\n",
    "        elif operacion == \"NOT\":\n",
    "            return [1 - x for x in filas[0]]\n",
    "        else:\n",
    "            raise ValueError(f\"Operación lógica desconocida: {operacion}\")\n",
    "    \n",
    "    tokens = parsear_consulta(consulta)\n",
    "    \n",
    "    # Almacena filas según las palabras\n",
    "    filas = []\n",
    "    operaciones = []\n",
    "\n",
    "    for token in tokens:\n",
    "        if token in {\"AND\", \"OR\", \"NOT\"}:\n",
    "            print(token)\n",
    "            operaciones.append(token)\n",
    "        else:\n",
    "            filas.append(obtener_fila_palabra(token))\n",
    "    \n",
    "    # Aplica las operaciones lógicas\n",
    "    while operaciones:\n",
    "        operacion = operaciones.pop(0)\n",
    "        if operacion == \"NOT\":\n",
    "            fila = filas.pop(0)\n",
    "            resultado = aplicar_operacion_logica(operacion, [fila])\n",
    "            filas.insert(0, resultado)\n",
    "        else:\n",
    "            fila1 = filas.pop(0)\n",
    "            fila2 = filas.pop(0)\n",
    "            resultado = aplicar_operacion_logica(operacion, [fila1, fila2])\n",
    "            filas.insert(0, resultado)\n",
    "    \n",
    "    # Convertir el resultado a nombres de documentos\n",
    "    resultado_final = filas[0]\n",
    "    documentos_presentes = [columna_documentos[col_idx] for col_idx, presente in enumerate(resultado_final) if presente == 1]\n",
    "    \n",
    "    return documentos_presentes\n"
   ]
  },
  {
   "cell_type": "code",
   "execution_count": 4,
   "id": "febc4e06",
   "metadata": {},
   "outputs": [],
   "source": [
    "# Carpeta donde se encuentran los archivos txt\n",
    "carpeta_data = \"data_muestra\""
   ]
  },
  {
   "cell_type": "code",
   "execution_count": 5,
   "id": "4c871f8f",
   "metadata": {},
   "outputs": [
    {
     "name": "stdout",
     "output_type": "stream",
     "text": [
      "pg11.txtPrimera Revision\n",
      "pg16.txtPrimera Revision\n",
      "pg23.txtPrimera Revision\n",
      "pg11.txtSegunda Revision\n",
      "pg16.txtSegunda Revision\n",
      "pg23.txtSegunda Revision\n"
     ]
    }
   ],
   "source": [
    "# Realizar diccionario con la matriz binaria\n",
    "columnas_doc, fila_palabras, matriz_binaria = crear_matriz(carpeta_data)"
   ]
  },
  {
   "cell_type": "markdown",
   "id": "da497dbe",
   "metadata": {},
   "source": [
    "Textos Ejemplos: pg11.txt (Mouse, Rabbit, Alice) --- pg16.txt(Mouse, Rabbit, Barrie) --- pg23.txt(Douglass)"
   ]
  },
  {
   "cell_type": "code",
   "execution_count": 90,
   "id": "0b7b7da5",
   "metadata": {},
   "outputs": [
    {
     "name": "stdout",
     "output_type": "stream",
     "text": [
      "Ingrese la palabra que desea buscar: Mouse AND Rabbit\n"
     ]
    }
   ],
   "source": [
    "# Pedir al usuario que ingrese la palabra a buscar\n",
    "palabra_a_buscar = input(\"Ingrese la palabra que desea buscar: \")"
   ]
  },
  {
   "cell_type": "code",
   "execution_count": 91,
   "id": "32f54f43",
   "metadata": {},
   "outputs": [
    {
     "name": "stdout",
     "output_type": "stream",
     "text": [
      "['MOUSE', 'AND', 'RABBIT']\n",
      "AND\n"
     ]
    }
   ],
   "source": [
    "#Realizar busqueda\n",
    "archivos_encontrados = buscar_palabra(palabra_a_buscar, columnas_doc, fila_palabras, matriz_binaria)"
   ]
  },
  {
   "cell_type": "code",
   "execution_count": 92,
   "id": "a84e281b",
   "metadata": {},
   "outputs": [
    {
     "name": "stdout",
     "output_type": "stream",
     "text": [
      "\n",
      "Esa palabra aparece en los siguientes archivos:\n",
      "pg11.txt\n",
      "pg16.txt\n"
     ]
    }
   ],
   "source": [
    "# Se comprueba que la lista archivos_con_palabra tenga algo\n",
    "if archivos_encontrados: \n",
    "    print(\"\")\n",
    "    print(\"Esa palabra aparece en los siguientes archivos:\")\n",
    "    for archivo in archivos_encontrados:\n",
    "        print(archivo)\n",
    "else:\n",
    "    print(\"La palabra no se encontró en ningún archivo.\")"
   ]
  }
 ],
 "metadata": {
  "kernelspec": {
   "display_name": "Python 3 (ipykernel)",
   "language": "python",
   "name": "python3"
  },
  "language_info": {
   "codemirror_mode": {
    "name": "ipython",
    "version": 3
   },
   "file_extension": ".py",
   "mimetype": "text/x-python",
   "name": "python",
   "nbconvert_exporter": "python",
   "pygments_lexer": "ipython3",
   "version": "3.11.7"
  }
 },
 "nbformat": 4,
 "nbformat_minor": 5
}
