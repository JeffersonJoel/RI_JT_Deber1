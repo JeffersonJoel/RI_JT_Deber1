{
 "cells": [
  {
   "cell_type": "code",
   "execution_count": 1,
   "id": "547ff912",
   "metadata": {},
   "outputs": [],
   "source": [
    "import os\n",
    "import re\n",
    "import inflect\n",
    "import numpy as np"
   ]
  },
  {
   "cell_type": "code",
   "execution_count": 2,
   "id": "eeeaf40c",
   "metadata": {},
   "outputs": [],
   "source": [
    "textos = [\n",
    "    \"Historia de Madrid: Madrid, la capital de España, tiene una rica historia que se remonta al siglo IX. La ciudad fue fundada por los musulmanes, y su nombre proviene del árabe “Majrit” que significa “fuente de agua”. A lo largo de los siglos, Madrid se ha convertido en un centro político, económico y cultural de España.\",\n",
    "    \"El Palacio Real: El Palacio Real de Madrid es una de las residencias oficiales de la familia real española, aunque ahora se usa principalmente para ceremonias de estado. Con más de 3000 habitaciones, es el palacio real más grande de Europa Occidental y un testimonio del esplendor y la historia de España.\",\n",
    "    \"Museo del Prado: El Museo del Prado es uno de los museos más famosos del mundo y un destino imprescindible para los amantes del arte que visitan Madrid. Alberga una impresionante colección de obras de Velázquez, Goya, El Greco y otros maestros europeos.\",\n",
    "    \"Parque del Retiro: El Parque del Retiro es el pulmón verde de Madrid. Antiguamente perteneciente a la monarquía española, este parque de 118 hectáreas ofrece un respiro de la vida urbana con sus estanques, jardines y el Palacio de Cristal.\",\n",
    "    \"Gastronomía Madrileña: Madrid es famosa por su vibrante escena gastronómica que incluye desde tapas en pequeños bares hasta restaurantes de alta cocina. Platos típicos como el cocido madrileño y las patatas bravas son esenciales para cualquier visitante.\",\n",
    "    \"Gran Vía: La Gran Vía es una de las calles más famosas de Madrid, conocida por sus tiendas, teatros y arquitectura emblemática. Este bullicioso bulevar es un punto de encuentro para turistas y locales por igual.\",\n",
    "    \"Real Madrid y el Estadio Santiago Bernabéu: El Real Madrid, uno de los clubes de fútbol más famosos y exitosos del mundo, juega sus partidos en el Estadio Santiago Bernabéu. Este estadio es una meca para los aficionados al fútbol y ofrece tours que permiten a los visitantes explorar su rica historia.\",\n",
    "    \"Navidad en Madrid: Durante la temporada navideña, Madrid se transforma con mercados festivos, luces deslumbrantes y decoraciones. La Plaza Mayor se convierte en un enorme mercado de Navidad, donde se pueden encontrar todo tipo de regalos y delicias tradicionales.\",\n",
    "    \"Nochevieja en Puerta del Sol: La Puerta del Sol es el corazón de Madrid y el lugar donde miles se reúnen cada Nochevieja para dar la bienvenida al año nuevo. Comer las doce uvas de la suerte al son de las campanadas del reloj es una tradición que todos deberían experimentar.\",\n",
    "    \"Madrid Río: Madrid Río es un parque lineal a lo largo del río Manzanares y un ejemplo perfecto de cómo la ciudad ha transformado áreas industriales en espacios verdes vibrantes. Es un lugar popular para caminar, andar en bicicleta y disfrutar de actividades al aire libre.\",\n",
    "    \"Historia de Dortmund: Dortmund, situada en la región del Ruhr en Alemania, tiene una historia que se remonta al año 882. Originalmente una pequeña villa, Dortmund creció para convertirse en una importante ciudad industrial, especialmente conocida por su producción de acero y cerveza.\",\n",
    "    \"Westfalenpark: Westfalenpark es uno de los parques urbanos más grandes de Europa y un lugar destacado para los visitantes en Dortmund. El parque es famoso por su Rosarium, que alberga una de las colecciones más extensas de rosas en el mundo, y la torre Florian, que ofrece vistas panorámicas de la ciudad.\",\n",
    "    \"Museo del Fútbol Alemán: Inaugurado en 2015, el Museo del Fútbol Alemán ofrece una experiencia interactiva que celebra la rica historia del fútbol alemán. Ubicado en Dortmund, el museo atrae a aficionados de todo el mundo y destaca por sus exposiciones que cuentan desde los primeros días del deporte hasta los triunfos en Copas del Mundo.\",\n",
    "    \"Mercado de Navidad de Dortmund: El Mercado de Navidad de Dortmund es uno de los más grandes y más visitados de Alemania. Con su gigantesco árbol de Navidad, posiblemente el más alto de los mercados navideños del país, y más de 300 puestos que venden artesanías, alimentos y bebidas tradicionales, es un evento imperdible durante la temporada festiva.\",\n",
    "    \"U-Tower - Centro de Arte y Creatividad: El U-Tower, una antigua cervecería reconvertida, es ahora un centro dinámico de arte y creatividad. Alberga el Museo Ostwall, espacios de exposiciones y estudios de artistas, y es un símbolo de la transformación cultural de Dortmund.\",\n",
    "    \"Borussia Dortmund y el Signal Iduna Park: Borussia Dortmund es uno de los clubes de fútbol más populares y exitosos de Alemania. El equipo juega sus partidos en casa en el Signal Iduna Park, conocido por su increíble atmósfera y el famoso “Muro Amarillo”, la tribuna sur que alberga a 25000 aficionados apasionados.\",\n",
    "    \"La cervecería Dortmund: Dortmund tiene una larga tradición cervecera, y la visita a una de sus muchas cervecerías es una parada obligatoria. Las cervecerías ofrecen tours que incluyen degustaciones de cervezas locales como Dortmunder Export, una lager que es un orgullo de la ciudad.\",\n",
    "    \"La Reinoldikirche: La iglesia de San Reinold es el edificio más antiguo de Dortmund, datando del siglo XIII. Es un punto de referencia histórico importante y ofrece a los visitantes una mirada al pasado medieval de la ciudad.\",\n",
    "    \"Dortmund durante la Segunda Guerra Mundial: Dortmund fue un objetivo significativo durante los bombardeos de la Segunda Guerra Mundial debido a su industria pesada. Hoy en día, varios monumentos y museos ofrecen reflexiones sobre este período y sus efectos en la ciudad.\",\n",
    "    \"Zoológico de Dortmund: El Zoológico de Dortmund es un lugar excelente para familias y amantes de la naturaleza. Con más de 1500 animales y un enfoque especial en la con servación de especies amenazadas, el zoológico proporciona una experiencia educativa y entretenida.\"\n",
    "]"
   ]
  },
  {
   "cell_type": "code",
   "execution_count": 3,
   "id": "6762f54f",
   "metadata": {},
   "outputs": [],
   "source": [
    "categoria = [\"Turismo\", \"Historia\", \"Guerra\", \"Fútbol\", \"Realeza\", \"Gastronomía\", \"Arte y Cultura\", \"Naturaleza y Medio Ambiente\",\n",
    "            \"Arquitectura\", \"Comercio\", \"Festividades\", \"Transporte\", \"Educación\", \"Tecnología\", \"Deportes (otros)\", \"Religión\",\n",
    "            \"Ocio y Entretenimiento\", \"Salud y Bienestar\", \"Industria\", \"Urbanismo\"]"
   ]
  },
  {
   "cell_type": "code",
   "execution_count": 4,
   "id": "27c2692b",
   "metadata": {},
   "outputs": [],
   "source": [
    "def clasificar_palabra(palabra):\n",
    "    # Definir listas de palabras clave para cada categoría\n",
    "    categorias = {\n",
    "        \"Turismo\": [\"playa\", \"hotel\", \"museo\", \"monumento\", \"excursión\", \"turista\", \"vacaciones\", \"turismo\"],\n",
    "        \"Historia\": [\"revolución\", \"imperio\", \"siglo\", \"colonización\", \"rey\", \"batalla\", \"independencia\", \"historia\"],\n",
    "        \"Guerra\": [\"soldado\", \"armamento\", \"batalla\", \"guerra\", \"conflicto\", \"ejército\", \"frente\", \"guerra\"],\n",
    "        \"Fútbol\": [\"equipo\", \"estadio\", \"gol\", \"jugador\", \"partido\", \"campeonato\", \"liga\", \"fútbol\"],\n",
    "        \"Realeza\": [\"rey\", \"reina\", \"palacio\", \"corona\", \"princesa\", \"monarquía\", \"duque\", \"realeza\"],\n",
    "        \"Gastronomía\": [\"comida\", \"plato\", \"restaurante\", \"chef\", \"cocina\", \"sabor\", \"receta\", \"gastronomía\"],\n",
    "        \"Arte y Cultura\": [\"museo\", \"exposición\", \"pintura\", \"escultura\", \"teatro\", \"danza\", \"música\", \"arte\", \"cultura\"],\n",
    "        \"Naturaleza y Medio Ambiente\": [\"parque\", \"bosque\", \"río\", \"montaña\", \"flora\", \"fauna\", \"conservación\", \"naturaleza\", \"ambiente\"],\n",
    "        \"Arquitectura\": [\"edificio\", \"diseño\", \"estructura\", \"monumento\", \"catedral\", \"rascacielos\", \"puente\", \"arquitectura\"],\n",
    "        \"Comercio\": [\"mercado\", \"tienda\", \"venta\", \"compra\", \"negocio\", \"economía\", \"transacción\", \"comercio\"],\n",
    "        \"Festividades\": [\"celebración\", \"festival\", \"evento\", \"feria\", \"navidad\", \"cumpleaños\", \"aniversario\", \"festividades\"],\n",
    "        \"Transporte\": [\"coche\", \"avión\", \"tren\", \"autobús\", \"puerto\", \"carretera\", \"metro\", \"transporte\"],\n",
    "        \"Educación\": [\"escuela\", \"universidad\", \"clase\", \"profesor\", \"estudiante\", \"aprendizaje\", \"examen\", \"educación\"],\n",
    "        \"Tecnología\": [\"computadora\", \"internet\", \"software\", \"hardware\", \"innovación\", \"gadgets\", \"redes\", \"tecnología\"],\n",
    "        \"Deportes (otros)\": [\"tenis\", \"baloncesto\", \"natación\", \"ciclismo\", \"atletismo\", \"gimnasia\", \"voleibol\", \"deportes\"],\n",
    "        \"Religión\": [\"iglesia\", \"templo\", \"dios\", \"ritual\", \"sacerdote\", \"fe\", \"oración\", \"religión\"],\n",
    "        \"Ocio y Entretenimiento\": [\"cine\", \"televisión\", \"juego\", \"videojuego\", \"parque de atracciones\", \"discoteca\", \"concierto\", \"ocio\", \"entretenimiento\"],\n",
    "        \"Salud y Bienestar\": [\"hospital\", \"medicina\", \"doctor\", \"enfermera\", \"terapia\", \"salud\", \"bienestar\"],\n",
    "        \"Industria\": [\"fábrica\", \"producción\", \"manufactura\", \"industrial\", \"sector\", \"empresa\", \"maquinaria\", \"industria\"],\n",
    "        \"Urbanismo\": [\"ciudad\", \"planificación\", \"desarrollo\", \"infraestructura\", \"barrio\", \"urbanización\", \"espacio público\", \"urbanismo\"]\n",
    "    }\n",
    "\n",
    "    # Convertir la palabra ingresada a minúsculas\n",
    "    palabra = palabra.lower()\n",
    "    \n",
    "    # Verificar en cuál lista se encuentra la palabra\n",
    "    for categoria, palabras_clave in categorias.items():\n",
    "        if palabra in palabras_clave:\n",
    "            return categoria\n",
    "    \n",
    "    return None\n"
   ]
  },
  {
   "cell_type": "code",
   "execution_count": 5,
   "id": "6d47c322",
   "metadata": {},
   "outputs": [],
   "source": [
    "def crear_matriz(textos, categorias):\n",
    "    matriz = [[0 for i in range(20)] for i in range(20)]\n",
    "    \n",
    "    inflect_engine = inflect.engine()\n",
    "    \n",
    "    for indice, texto in enumerate(textos):\n",
    "        print(f\"Texto N°: {indice + 1}\")\n",
    "        \n",
    "        contenido = texto.lower()\n",
    "        \n",
    "        #palabras = re.findall(r'\\b[a-zA-Z]+\\b', contenido)\n",
    "        # Dividir el contenido en palabras y eliminar caracteres no deseados\n",
    "        eliminar = str.maketrans('', '', '.!?\\'“”,:;_\"[]{}‘’()')\n",
    "        fila_palabras_temporal = [palabra.translate(eliminar) for palabra in contenido.split()]\n",
    "        print(fila_palabras_temporal)\n",
    "        #No sacamos plurales dado que se distorcionan las palabras en idioma español y dificulta la busqueda\n",
    "        #Para eso mejor completamos las palabras plurales en el diccionario de categorias\n",
    "        \n",
    "        for palabra in fila_palabras_temporal:\n",
    "            categoria_resultado = clasificar_palabra(palabra)\n",
    "            if categoria_resultado != None:\n",
    "                categoria_index = categorias.index(categoria_resultado)\n",
    "                matriz[categoria_index][indice] += 1\n",
    "                \n",
    "    return matriz"
   ]
  },
  {
   "cell_type": "code",
   "execution_count": 6,
   "id": "b7e17159",
   "metadata": {},
   "outputs": [
    {
     "name": "stdout",
     "output_type": "stream",
     "text": [
      "Texto N°: 1\n",
      "['historia', 'de', 'madrid', 'madrid', 'la', 'capital', 'de', 'españa', 'tiene', 'una', 'rica', 'historia', 'que', 'se', 'remonta', 'al', 'siglo', 'ix', 'la', 'ciudad', 'fue', 'fundada', 'por', 'los', 'musulmanes', 'y', 'su', 'nombre', 'proviene', 'del', 'árabe', 'majrit', 'que', 'significa', 'fuente', 'de', 'agua', 'a', 'lo', 'largo', 'de', 'los', 'siglos', 'madrid', 'se', 'ha', 'convertido', 'en', 'un', 'centro', 'político', 'económico', 'y', 'cultural', 'de', 'españa']\n",
      "Texto N°: 2\n",
      "['el', 'palacio', 'real', 'el', 'palacio', 'real', 'de', 'madrid', 'es', 'una', 'de', 'las', 'residencias', 'oficiales', 'de', 'la', 'familia', 'real', 'española', 'aunque', 'ahora', 'se', 'usa', 'principalmente', 'para', 'ceremonias', 'de', 'estado', 'con', 'más', 'de', '3000', 'habitaciones', 'es', 'el', 'palacio', 'real', 'más', 'grande', 'de', 'europa', 'occidental', 'y', 'un', 'testimonio', 'del', 'esplendor', 'y', 'la', 'historia', 'de', 'españa']\n",
      "Texto N°: 3\n",
      "['museo', 'del', 'prado', 'el', 'museo', 'del', 'prado', 'es', 'uno', 'de', 'los', 'museos', 'más', 'famosos', 'del', 'mundo', 'y', 'un', 'destino', 'imprescindible', 'para', 'los', 'amantes', 'del', 'arte', 'que', 'visitan', 'madrid', 'alberga', 'una', 'impresionante', 'colección', 'de', 'obras', 'de', 'velázquez', 'goya', 'el', 'greco', 'y', 'otros', 'maestros', 'europeos']\n",
      "Texto N°: 4\n",
      "['parque', 'del', 'retiro', 'el', 'parque', 'del', 'retiro', 'es', 'el', 'pulmón', 'verde', 'de', 'madrid', 'antiguamente', 'perteneciente', 'a', 'la', 'monarquía', 'española', 'este', 'parque', 'de', '118', 'hectáreas', 'ofrece', 'un', 'respiro', 'de', 'la', 'vida', 'urbana', 'con', 'sus', 'estanques', 'jardines', 'y', 'el', 'palacio', 'de', 'cristal']\n",
      "Texto N°: 5\n",
      "['gastronomía', 'madrileña', 'madrid', 'es', 'famosa', 'por', 'su', 'vibrante', 'escena', 'gastronómica', 'que', 'incluye', 'desde', 'tapas', 'en', 'pequeños', 'bares', 'hasta', 'restaurantes', 'de', 'alta', 'cocina', 'platos', 'típicos', 'como', 'el', 'cocido', 'madrileño', 'y', 'las', 'patatas', 'bravas', 'son', 'esenciales', 'para', 'cualquier', 'visitante']\n",
      "Texto N°: 6\n",
      "['gran', 'vía', 'la', 'gran', 'vía', 'es', 'una', 'de', 'las', 'calles', 'más', 'famosas', 'de', 'madrid', 'conocida', 'por', 'sus', 'tiendas', 'teatros', 'y', 'arquitectura', 'emblemática', 'este', 'bullicioso', 'bulevar', 'es', 'un', 'punto', 'de', 'encuentro', 'para', 'turistas', 'y', 'locales', 'por', 'igual']\n",
      "Texto N°: 7\n",
      "['real', 'madrid', 'y', 'el', 'estadio', 'santiago', 'bernabéu', 'el', 'real', 'madrid', 'uno', 'de', 'los', 'clubes', 'de', 'fútbol', 'más', 'famosos', 'y', 'exitosos', 'del', 'mundo', 'juega', 'sus', 'partidos', 'en', 'el', 'estadio', 'santiago', 'bernabéu', 'este', 'estadio', 'es', 'una', 'meca', 'para', 'los', 'aficionados', 'al', 'fútbol', 'y', 'ofrece', 'tours', 'que', 'permiten', 'a', 'los', 'visitantes', 'explorar', 'su', 'rica', 'historia']\n",
      "Texto N°: 8\n",
      "['navidad', 'en', 'madrid', 'durante', 'la', 'temporada', 'navideña', 'madrid', 'se', 'transforma', 'con', 'mercados', 'festivos', 'luces', 'deslumbrantes', 'y', 'decoraciones', 'la', 'plaza', 'mayor', 'se', 'convierte', 'en', 'un', 'enorme', 'mercado', 'de', 'navidad', 'donde', 'se', 'pueden', 'encontrar', 'todo', 'tipo', 'de', 'regalos', 'y', 'delicias', 'tradicionales']\n",
      "Texto N°: 9\n",
      "['nochevieja', 'en', 'puerta', 'del', 'sol', 'la', 'puerta', 'del', 'sol', 'es', 'el', 'corazón', 'de', 'madrid', 'y', 'el', 'lugar', 'donde', 'miles', 'se', 'reúnen', 'cada', 'nochevieja', 'para', 'dar', 'la', 'bienvenida', 'al', 'año', 'nuevo', 'comer', 'las', 'doce', 'uvas', 'de', 'la', 'suerte', 'al', 'son', 'de', 'las', 'campanadas', 'del', 'reloj', 'es', 'una', 'tradición', 'que', 'todos', 'deberían', 'experimentar']\n",
      "Texto N°: 10\n",
      "['madrid', 'río', 'madrid', 'río', 'es', 'un', 'parque', 'lineal', 'a', 'lo', 'largo', 'del', 'río', 'manzanares', 'y', 'un', 'ejemplo', 'perfecto', 'de', 'cómo', 'la', 'ciudad', 'ha', 'transformado', 'áreas', 'industriales', 'en', 'espacios', 'verdes', 'vibrantes', 'es', 'un', 'lugar', 'popular', 'para', 'caminar', 'andar', 'en', 'bicicleta', 'y', 'disfrutar', 'de', 'actividades', 'al', 'aire', 'libre']\n",
      "Texto N°: 11\n",
      "['historia', 'de', 'dortmund', 'dortmund', 'situada', 'en', 'la', 'región', 'del', 'ruhr', 'en', 'alemania', 'tiene', 'una', 'historia', 'que', 'se', 'remonta', 'al', 'año', '882', 'originalmente', 'una', 'pequeña', 'villa', 'dortmund', 'creció', 'para', 'convertirse', 'en', 'una', 'importante', 'ciudad', 'industrial', 'especialmente', 'conocida', 'por', 'su', 'producción', 'de', 'acero', 'y', 'cerveza']\n",
      "Texto N°: 12\n",
      "['westfalenpark', 'westfalenpark', 'es', 'uno', 'de', 'los', 'parques', 'urbanos', 'más', 'grandes', 'de', 'europa', 'y', 'un', 'lugar', 'destacado', 'para', 'los', 'visitantes', 'en', 'dortmund', 'el', 'parque', 'es', 'famoso', 'por', 'su', 'rosarium', 'que', 'alberga', 'una', 'de', 'las', 'colecciones', 'más', 'extensas', 'de', 'rosas', 'en', 'el', 'mundo', 'y', 'la', 'torre', 'florian', 'que', 'ofrece', 'vistas', 'panorámicas', 'de', 'la', 'ciudad']\n",
      "Texto N°: 13\n",
      "['museo', 'del', 'fútbol', 'alemán', 'inaugurado', 'en', '2015', 'el', 'museo', 'del', 'fútbol', 'alemán', 'ofrece', 'una', 'experiencia', 'interactiva', 'que', 'celebra', 'la', 'rica', 'historia', 'del', 'fútbol', 'alemán', 'ubicado', 'en', 'dortmund', 'el', 'museo', 'atrae', 'a', 'aficionados', 'de', 'todo', 'el', 'mundo', 'y', 'destaca', 'por', 'sus', 'exposiciones', 'que', 'cuentan', 'desde', 'los', 'primeros', 'días', 'del', 'deporte', 'hasta', 'los', 'triunfos', 'en', 'copas', 'del', 'mundo']\n",
      "Texto N°: 14\n",
      "['mercado', 'de', 'navidad', 'de', 'dortmund', 'el', 'mercado', 'de', 'navidad', 'de', 'dortmund', 'es', 'uno', 'de', 'los', 'más', 'grandes', 'y', 'más', 'visitados', 'de', 'alemania', 'con', 'su', 'gigantesco', 'árbol', 'de', 'navidad', 'posiblemente', 'el', 'más', 'alto', 'de', 'los', 'mercados', 'navideños', 'del', 'país', 'y', 'más', 'de', '300', 'puestos', 'que', 'venden', 'artesanías', 'alimentos', 'y', 'bebidas', 'tradicionales', 'es', 'un', 'evento', 'imperdible', 'durante', 'la', 'temporada', 'festiva']\n",
      "Texto N°: 15\n",
      "['u-tower', '-', 'centro', 'de', 'arte', 'y', 'creatividad', 'el', 'u-tower', 'una', 'antigua', 'cervecería', 'reconvertida', 'es', 'ahora', 'un', 'centro', 'dinámico', 'de', 'arte', 'y', 'creatividad', 'alberga', 'el', 'museo', 'ostwall', 'espacios', 'de', 'exposiciones', 'y', 'estudios', 'de', 'artistas', 'y', 'es', 'un', 'símbolo', 'de', 'la', 'transformación', 'cultural', 'de', 'dortmund']\n",
      "Texto N°: 16\n",
      "['borussia', 'dortmund', 'y', 'el', 'signal', 'iduna', 'park', 'borussia', 'dortmund', 'es', 'uno', 'de', 'los', 'clubes', 'de', 'fútbol', 'más', 'populares', 'y', 'exitosos', 'de', 'alemania', 'el', 'equipo', 'juega', 'sus', 'partidos', 'en', 'casa', 'en', 'el', 'signal', 'iduna', 'park', 'conocido', 'por', 'su', 'increíble', 'atmósfera', 'y', 'el', 'famoso', 'muro', 'amarillo', 'la', 'tribuna', 'sur', 'que', 'alberga', 'a', '25000', 'aficionados', 'apasionados']\n",
      "Texto N°: 17\n",
      "['la', 'cervecería', 'dortmund', 'dortmund', 'tiene', 'una', 'larga', 'tradición', 'cervecera', 'y', 'la', 'visita', 'a', 'una', 'de', 'sus', 'muchas', 'cervecerías', 'es', 'una', 'parada', 'obligatoria', 'las', 'cervecerías', 'ofrecen', 'tours', 'que', 'incluyen', 'degustaciones', 'de', 'cervezas', 'locales', 'como', 'dortmunder', 'export', 'una', 'lager', 'que', 'es', 'un', 'orgullo', 'de', 'la', 'ciudad']\n",
      "Texto N°: 18\n",
      "['la', 'reinoldikirche', 'la', 'iglesia', 'de', 'san', 'reinold', 'es', 'el', 'edificio', 'más', 'antiguo', 'de', 'dortmund', 'datando', 'del', 'siglo', 'xiii', 'es', 'un', 'punto', 'de', 'referencia', 'histórico', 'importante', 'y', 'ofrece', 'a', 'los', 'visitantes', 'una', 'mirada', 'al', 'pasado', 'medieval', 'de', 'la', 'ciudad']\n",
      "Texto N°: 19\n",
      "['dortmund', 'durante', 'la', 'segunda', 'guerra', 'mundial', 'dortmund', 'fue', 'un', 'objetivo', 'significativo', 'durante', 'los', 'bombardeos', 'de', 'la', 'segunda', 'guerra', 'mundial', 'debido', 'a', 'su', 'industria', 'pesada', 'hoy', 'en', 'día', 'varios', 'monumentos', 'y', 'museos', 'ofrecen', 'reflexiones', 'sobre', 'este', 'período', 'y', 'sus', 'efectos', 'en', 'la', 'ciudad']\n",
      "Texto N°: 20\n",
      "['zoológico', 'de', 'dortmund', 'el', 'zoológico', 'de', 'dortmund', 'es', 'un', 'lugar', 'excelente', 'para', 'familias', 'y', 'amantes', 'de', 'la', 'naturaleza', 'con', 'más', 'de', '1500', 'animales', 'y', 'un', 'enfoque', 'especial', 'en', 'la', 'con', 'servación', 'de', 'especies', 'amenazadas', 'el', 'zoológico', 'proporciona', 'una', 'experiencia', 'educativa', 'y', 'entretenida']\n"
     ]
    }
   ],
   "source": [
    "matriz = crear_matriz(textos, categoria)"
   ]
  },
  {
   "cell_type": "code",
   "execution_count": 7,
   "id": "8a3e206a",
   "metadata": {},
   "outputs": [
    {
     "name": "stdout",
     "output_type": "stream",
     "text": [
      "[0, 0, 2, 0, 0, 0, 0, 0, 0, 0, 0, 0, 3, 0, 1, 0, 0, 0, 0, 0]\n",
      "[3, 1, 0, 0, 0, 0, 1, 0, 0, 0, 2, 0, 1, 0, 0, 0, 0, 1, 0, 0]\n",
      "[0, 0, 0, 0, 0, 0, 0, 0, 0, 0, 0, 0, 0, 0, 0, 0, 0, 0, 2, 0]\n",
      "[0, 0, 0, 0, 0, 0, 5, 0, 0, 0, 0, 0, 3, 0, 0, 2, 0, 0, 0, 0]\n",
      "[0, 3, 0, 2, 0, 0, 0, 0, 0, 0, 0, 0, 0, 0, 0, 0, 0, 0, 0, 0]\n",
      "[0, 0, 0, 0, 2, 0, 0, 0, 0, 0, 0, 0, 0, 0, 0, 0, 0, 0, 0, 0]\n",
      "[0, 0, 1, 0, 0, 0, 0, 0, 0, 0, 0, 0, 0, 0, 2, 0, 0, 0, 0, 0]\n",
      "[0, 0, 0, 3, 0, 0, 0, 0, 0, 4, 0, 1, 0, 0, 0, 0, 0, 0, 0, 1]\n",
      "[0, 0, 0, 0, 0, 1, 0, 0, 0, 0, 0, 0, 0, 0, 0, 0, 0, 1, 0, 0]\n",
      "[0, 0, 0, 0, 0, 0, 0, 1, 0, 0, 0, 0, 0, 2, 0, 0, 0, 0, 0, 0]\n",
      "[0, 0, 0, 0, 0, 0, 0, 2, 0, 0, 0, 0, 0, 4, 0, 0, 0, 0, 0, 0]\n",
      "[0, 0, 0, 0, 0, 0, 0, 0, 0, 0, 0, 0, 0, 0, 0, 0, 0, 0, 0, 0]\n",
      "[0, 0, 0, 0, 0, 0, 0, 0, 0, 0, 0, 0, 0, 0, 0, 0, 0, 0, 0, 0]\n",
      "[0, 0, 0, 0, 0, 0, 0, 0, 0, 0, 0, 0, 0, 0, 0, 0, 0, 0, 0, 0]\n",
      "[0, 0, 0, 0, 0, 0, 0, 0, 0, 0, 0, 0, 0, 0, 0, 0, 0, 0, 0, 0]\n",
      "[0, 0, 0, 0, 0, 0, 0, 0, 0, 0, 0, 0, 0, 0, 0, 0, 0, 1, 0, 0]\n",
      "[0, 0, 0, 0, 0, 0, 0, 0, 0, 0, 0, 0, 0, 0, 0, 0, 0, 0, 0, 0]\n",
      "[0, 0, 0, 0, 0, 0, 0, 0, 0, 0, 0, 0, 0, 0, 0, 0, 0, 0, 0, 0]\n",
      "[0, 0, 0, 0, 0, 0, 0, 0, 0, 0, 2, 0, 0, 0, 0, 0, 0, 0, 1, 0]\n",
      "[1, 0, 0, 0, 0, 0, 0, 0, 0, 1, 1, 1, 0, 0, 0, 0, 1, 1, 1, 0]\n"
     ]
    }
   ],
   "source": [
    "for fila in matriz:\n",
    "    print(fila)"
   ]
  },
  {
   "cell_type": "code",
   "execution_count": 8,
   "id": "2407787d",
   "metadata": {},
   "outputs": [],
   "source": [
    "queries = [\n",
    "    \"Historia medieval de las ciudades europeas\",\n",
    "    \"Principales destinos turísticos en Europa\",\n",
    "    \"Influencia de la realeza en la cultura europea\",\n",
    "    \"Importancia de los parques urbanos en las ciudades\",\n",
    "    \"Gastronomía típica en capitales europeas\",\n",
    "    \"Eventos deportivos icónicos en Europa\",\n",
    "    \"Celebraciones de Navidad en ciudades europeas\",\n",
    "    \"Museos de arte importantes en Europa\",\n",
    "    \"Efectos de la Segunda Guerra Mundial en ciudades europeas\",\n",
    "    \"Arquitectura histórica en ciudades europeas\",\n",
    "    \"Clubes de fútbol famosos y sus estadios en Europa\",\n",
    "    \"Transformación urbana y regeneración de espacios\",\n",
    "    \"Tradición cervecera en ciudades europeas\",\n",
    "    \"Mercados y comercio tradicional en Europa\",\n",
    "    \"Centros de arte y creatividad en ciudades modernas\",\n",
    "    \"Actividades de ocio y entretenimiento en ciudades metropolitanas\",\n",
    "    \"Conservación de la naturaleza y la vida silvestre en zonas urbanas\",\n",
    "    \"Planificación de eventos culturales y festivales en ciudades\",\n",
    "    \"Desarrollo del transporte y la infraestructura urbana\",\n",
    "    \"Impacto de la tecnología en la vida urbana\"\n",
    "]"
   ]
  },
  {
   "cell_type": "code",
   "execution_count": 9,
   "id": "bfb16101",
   "metadata": {},
   "outputs": [
    {
     "name": "stdout",
     "output_type": "stream",
     "text": [
      "Texto N°: 1\n",
      "['historia', 'medieval', 'de', 'las', 'ciudades', 'europeas']\n",
      "Texto N°: 2\n",
      "['principales', 'destinos', 'turísticos', 'en', 'europa']\n",
      "Texto N°: 3\n",
      "['influencia', 'de', 'la', 'realeza', 'en', 'la', 'cultura', 'europea']\n",
      "Texto N°: 4\n",
      "['importancia', 'de', 'los', 'parques', 'urbanos', 'en', 'las', 'ciudades']\n",
      "Texto N°: 5\n",
      "['gastronomía', 'típica', 'en', 'capitales', 'europeas']\n",
      "Texto N°: 6\n",
      "['eventos', 'deportivos', 'icónicos', 'en', 'europa']\n",
      "Texto N°: 7\n",
      "['celebraciones', 'de', 'navidad', 'en', 'ciudades', 'europeas']\n",
      "Texto N°: 8\n",
      "['museos', 'de', 'arte', 'importantes', 'en', 'europa']\n",
      "Texto N°: 9\n",
      "['efectos', 'de', 'la', 'segunda', 'guerra', 'mundial', 'en', 'ciudades', 'europeas']\n",
      "Texto N°: 10\n",
      "['arquitectura', 'histórica', 'en', 'ciudades', 'europeas']\n",
      "Texto N°: 11\n",
      "['clubes', 'de', 'fútbol', 'famosos', 'y', 'sus', 'estadios', 'en', 'europa']\n",
      "Texto N°: 12\n",
      "['transformación', 'urbana', 'y', 'regeneración', 'de', 'espacios']\n",
      "Texto N°: 13\n",
      "['tradición', 'cervecera', 'en', 'ciudades', 'europeas']\n",
      "Texto N°: 14\n",
      "['mercados', 'y', 'comercio', 'tradicional', 'en', 'europa']\n",
      "Texto N°: 15\n",
      "['centros', 'de', 'arte', 'y', 'creatividad', 'en', 'ciudades', 'modernas']\n",
      "Texto N°: 16\n",
      "['actividades', 'de', 'ocio', 'y', 'entretenimiento', 'en', 'ciudades', 'metropolitanas']\n",
      "Texto N°: 17\n",
      "['conservación', 'de', 'la', 'naturaleza', 'y', 'la', 'vida', 'silvestre', 'en', 'zonas', 'urbanas']\n",
      "Texto N°: 18\n",
      "['planificación', 'de', 'eventos', 'culturales', 'y', 'festivales', 'en', 'ciudades']\n",
      "Texto N°: 19\n",
      "['desarrollo', 'del', 'transporte', 'y', 'la', 'infraestructura', 'urbana']\n",
      "Texto N°: 20\n",
      "['impacto', 'de', 'la', 'tecnología', 'en', 'la', 'vida', 'urbana']\n"
     ]
    }
   ],
   "source": [
    "matriz_query = crear_matriz(queries, categoria)"
   ]
  },
  {
   "cell_type": "code",
   "execution_count": 10,
   "id": "4fe9f5ac",
   "metadata": {},
   "outputs": [
    {
     "name": "stdout",
     "output_type": "stream",
     "text": [
      "[0, 0, 0, 0, 0, 0, 0, 0, 0, 0, 0, 0, 0, 0, 0, 0, 0, 0, 0, 0]\n",
      "[1, 0, 0, 0, 0, 0, 0, 0, 0, 0, 0, 0, 0, 0, 0, 0, 0, 0, 0, 0]\n",
      "[0, 0, 0, 0, 0, 0, 0, 0, 1, 0, 0, 0, 0, 0, 0, 0, 0, 0, 0, 0]\n",
      "[0, 0, 0, 0, 0, 0, 0, 0, 0, 0, 1, 0, 0, 0, 0, 0, 0, 0, 0, 0]\n",
      "[0, 0, 1, 0, 0, 0, 0, 0, 0, 0, 0, 0, 0, 0, 0, 0, 0, 0, 0, 0]\n",
      "[0, 0, 0, 0, 1, 0, 0, 0, 0, 0, 0, 0, 0, 0, 0, 0, 0, 0, 0, 0]\n",
      "[0, 0, 1, 0, 0, 0, 0, 1, 0, 0, 0, 0, 0, 0, 1, 0, 0, 0, 0, 0]\n",
      "[0, 0, 0, 0, 0, 0, 0, 0, 0, 0, 0, 0, 0, 0, 0, 0, 2, 0, 0, 0]\n",
      "[0, 0, 0, 0, 0, 0, 0, 0, 0, 1, 0, 0, 0, 0, 0, 0, 0, 0, 0, 0]\n",
      "[0, 0, 0, 0, 0, 0, 0, 0, 0, 0, 0, 0, 0, 1, 0, 0, 0, 0, 0, 0]\n",
      "[0, 0, 0, 0, 0, 0, 1, 0, 0, 0, 0, 0, 0, 0, 0, 0, 0, 0, 0, 0]\n",
      "[0, 0, 0, 0, 0, 0, 0, 0, 0, 0, 0, 0, 0, 0, 0, 0, 0, 0, 1, 0]\n",
      "[0, 0, 0, 0, 0, 0, 0, 0, 0, 0, 0, 0, 0, 0, 0, 0, 0, 0, 0, 0]\n",
      "[0, 0, 0, 0, 0, 0, 0, 0, 0, 0, 0, 0, 0, 0, 0, 0, 0, 0, 0, 1]\n",
      "[0, 0, 0, 0, 0, 0, 0, 0, 0, 0, 0, 0, 0, 0, 0, 0, 0, 0, 0, 0]\n",
      "[0, 0, 0, 0, 0, 0, 0, 0, 0, 0, 0, 0, 0, 0, 0, 0, 0, 0, 0, 0]\n",
      "[0, 0, 0, 0, 0, 0, 0, 0, 0, 0, 0, 0, 0, 0, 0, 2, 0, 0, 0, 0]\n",
      "[0, 0, 0, 0, 0, 0, 0, 0, 0, 0, 0, 0, 0, 0, 0, 0, 0, 0, 0, 0]\n",
      "[0, 0, 0, 0, 0, 0, 0, 0, 0, 0, 0, 0, 0, 0, 0, 0, 0, 0, 0, 0]\n",
      "[0, 0, 0, 0, 0, 0, 0, 0, 0, 0, 0, 0, 0, 0, 0, 0, 0, 1, 2, 0]\n"
     ]
    }
   ],
   "source": [
    "for fila in matriz_query:\n",
    "    print(fila)"
   ]
  },
  {
   "cell_type": "code",
   "execution_count": 11,
   "id": "8bb3e241",
   "metadata": {},
   "outputs": [],
   "source": [
    "# Calcular la distancia coseno\n",
    "def cosine_distance(vector1, vector2):\n",
    "    dot_product = np.dot(vector1, vector2) # Calcular el producto punto con numpy\n",
    "    norm_vector1 = np.linalg.norm(vector1) # Calcular la norma (raíz cuadrada de la suma de los cuadrados de los elementos)\n",
    "    norm_vector2 = np.linalg.norm(vector2) # la norma es calculada con numpy, sin ello sería más código\n",
    "    \n",
    "    # Verificar si alguna de las normas es cero\n",
    "    if norm_vector1 == 0 or norm_vector2 == 0:\n",
    "        # Si una de las normas es cero, la distancia coseno será NaN\n",
    "        return np.nan # Retornar NaN con numpy\n",
    "    \n",
    "    distance = dot_product / (norm_vector1 * norm_vector2) #Se calcula la distancia coseno por la formula\n",
    "    return distance"
   ]
  },
  {
   "cell_type": "code",
   "execution_count": 12,
   "id": "78e29d8e",
   "metadata": {},
   "outputs": [
    {
     "name": "stdout",
     "output_type": "stream",
     "text": [
      "Distancias coseno 1: [nan, nan, nan, nan, nan, nan, nan, nan, nan, nan, nan, nan, nan, nan, nan, nan, nan, nan, nan, nan]\n",
      "Distancias coseno 2: [0.0, 0.7276068751089989, 0.0, 0.0, 0.0, 0.0, 0.0, 0.0, 0.0, 0.0, 0.0, nan, nan, nan, nan, 0.0, nan, nan, 0.0, 0.3779644730092272]\n",
      "Distancias coseno 3: [0.0, 0.0, 0.0, 0.0, 0.0, 0.0, 0.0, 0.0, 0.0, 0.0, 0.0, nan, nan, nan, nan, 0.0, nan, nan, 0.0, 0.0]\n",
      "Distancias coseno 4: [0.0, 0.48507125007266594, 0.0, 0.0, 0.0, 0.0, 0.0, 0.0, 0.0, 0.0, 0.0, nan, nan, nan, nan, 0.0, nan, nan, 0.8944271909999159, 0.3779644730092272]\n",
      "Distancias coseno 5: [0.5345224838248488, 0.0, 0.0, 0.0, 0.0, 0.0, 0.4472135954999579, 0.0, 0.0, 0.0, 0.0, nan, nan, nan, nan, 0.0, nan, nan, 0.0, 0.0]\n",
      "Distancias coseno 6: [0.0, 0.0, 0.0, 0.0, 0.0, 1.0, 0.0, 0.0, 0.0, 0.0, 0.0, nan, nan, nan, nan, 0.0, nan, nan, 0.0, 0.0]\n",
      "Distancias coseno 7: [0.46291004988627577, 0.0, 0.0, 0.0, 0.0, 0.0, 0.7745966692414834, 0.0, 0.0, 0.2581988897471611, 0.2581988897471611, nan, nan, nan, nan, 0.0, nan, nan, 0.0, 0.0]\n",
      "Distancias coseno 8: [0.0, 0.0, 0.0, 0.0, 0.0, 0.0, 0.0, 0.0, 0.0, 0.0, 0.0, nan, nan, nan, nan, 0.0, nan, nan, 0.0, 0.3779644730092272]\n",
      "Distancias coseno 9: [0.0, 0.0, 0.0, 0.0, 0.0, 0.0, 0.0, 0.769800358919501, 0.0, 0.0, 0.0, nan, nan, nan, nan, 0.0, nan, nan, 0.0, 0.3779644730092272]\n",
      "Distancias coseno 10: [0.0, 0.0, 0.0, 0.0, 0.0, 0.0, 0.0, 0.0, 0.0, 0.8944271909999159, 0.8944271909999159, nan, nan, nan, nan, 0.0, nan, nan, 0.0, 0.0]\n",
      "Distancias coseno 11: [0.0, 0.24253562503633297, 0.0, 0.8111071056538127, 0.0, 0.0, 0.0, 0.0, 0.0, 0.0, 0.0, nan, nan, nan, nan, 0.0, nan, nan, 0.0, 0.0]\n",
      "Distancias coseno 12: [0.0, 0.0, 1.0, 0.0, 0.0, 0.0, 0.0, 0.0, 0.0, 0.0, 0.0, nan, nan, nan, nan, 0.0, nan, nan, 0.4472135954999579, 0.3779644730092272]\n",
      "Distancias coseno 13: [nan, nan, nan, nan, nan, nan, nan, nan, nan, nan, nan, nan, nan, nan, nan, nan, nan, nan, nan, nan]\n",
      "Distancias coseno 14: [0.0, 0.0, 0.0, 0.0, 0.0, 0.0, 0.0, 0.19245008972987526, 0.0, 0.0, 0.0, nan, nan, nan, nan, 0.0, nan, nan, 0.0, 0.0]\n",
      "Distancias coseno 15: [nan, nan, nan, nan, nan, nan, nan, nan, nan, nan, nan, nan, nan, nan, nan, nan, nan, nan, nan, nan]\n",
      "Distancias coseno 16: [nan, nan, nan, nan, nan, nan, nan, nan, nan, nan, nan, nan, nan, nan, nan, nan, nan, nan, nan, nan]\n",
      "Distancias coseno 17: [0.0, 0.0, 0.0, 0.3244428422615251, 0.0, 0.0, 0.0, 0.0, 0.0, 0.0, 0.0, nan, nan, nan, nan, 0.0, nan, nan, 0.0, 0.0]\n",
      "Distancias coseno 18: [nan, nan, nan, nan, nan, nan, nan, nan, nan, nan, nan, nan, nan, nan, nan, nan, nan, nan, nan, nan]\n",
      "Distancias coseno 19: [nan, nan, nan, nan, nan, nan, nan, nan, nan, nan, nan, nan, nan, nan, nan, nan, nan, nan, nan, nan]\n",
      "Distancias coseno 20: [0.0, 0.10846522890932808, 0.8944271909999159, 0.0, 0.0, 0.0, 0.0, 0.0, 0.31622776601683794, 0.0, 0.0, nan, nan, nan, nan, 0.4472135954999579, nan, nan, 0.3999999999999999, 0.5070925528371099]\n"
     ]
    }
   ],
   "source": [
    "distancias_resultados = []\n",
    "\n",
    "for i, query_vector in enumerate(matriz_query):\n",
    "    distances = []\n",
    "    for row_vector in matriz:\n",
    "        distance = cosine_distance(query_vector, row_vector)\n",
    "        distances.append(distance)\n",
    "    distancias_resultados.append(distances)\n",
    "    print(f\"Distancias coseno {i+1}:\", distances)"
   ]
  },
  {
   "cell_type": "code",
   "execution_count": 13,
   "id": "fe6a1882",
   "metadata": {},
   "outputs": [
    {
     "name": "stdout",
     "output_type": "stream",
     "text": [
      "[[nan, nan, nan, nan, nan, nan, nan, nan, nan, nan, nan, nan, nan, nan, nan, nan, nan, nan, nan, nan], [0.0, 0.7276068751089989, 0.0, 0.0, 0.0, 0.0, 0.0, 0.0, 0.0, 0.0, 0.0, nan, nan, nan, nan, 0.0, nan, nan, 0.0, 0.3779644730092272], [0.0, 0.0, 0.0, 0.0, 0.0, 0.0, 0.0, 0.0, 0.0, 0.0, 0.0, nan, nan, nan, nan, 0.0, nan, nan, 0.0, 0.0], [0.0, 0.48507125007266594, 0.0, 0.0, 0.0, 0.0, 0.0, 0.0, 0.0, 0.0, 0.0, nan, nan, nan, nan, 0.0, nan, nan, 0.8944271909999159, 0.3779644730092272], [0.5345224838248488, 0.0, 0.0, 0.0, 0.0, 0.0, 0.4472135954999579, 0.0, 0.0, 0.0, 0.0, nan, nan, nan, nan, 0.0, nan, nan, 0.0, 0.0], [0.0, 0.0, 0.0, 0.0, 0.0, 1.0, 0.0, 0.0, 0.0, 0.0, 0.0, nan, nan, nan, nan, 0.0, nan, nan, 0.0, 0.0], [0.46291004988627577, 0.0, 0.0, 0.0, 0.0, 0.0, 0.7745966692414834, 0.0, 0.0, 0.2581988897471611, 0.2581988897471611, nan, nan, nan, nan, 0.0, nan, nan, 0.0, 0.0], [0.0, 0.0, 0.0, 0.0, 0.0, 0.0, 0.0, 0.0, 0.0, 0.0, 0.0, nan, nan, nan, nan, 0.0, nan, nan, 0.0, 0.3779644730092272], [0.0, 0.0, 0.0, 0.0, 0.0, 0.0, 0.0, 0.769800358919501, 0.0, 0.0, 0.0, nan, nan, nan, nan, 0.0, nan, nan, 0.0, 0.3779644730092272], [0.0, 0.0, 0.0, 0.0, 0.0, 0.0, 0.0, 0.0, 0.0, 0.8944271909999159, 0.8944271909999159, nan, nan, nan, nan, 0.0, nan, nan, 0.0, 0.0], [0.0, 0.24253562503633297, 0.0, 0.8111071056538127, 0.0, 0.0, 0.0, 0.0, 0.0, 0.0, 0.0, nan, nan, nan, nan, 0.0, nan, nan, 0.0, 0.0], [0.0, 0.0, 1.0, 0.0, 0.0, 0.0, 0.0, 0.0, 0.0, 0.0, 0.0, nan, nan, nan, nan, 0.0, nan, nan, 0.4472135954999579, 0.3779644730092272], [nan, nan, nan, nan, nan, nan, nan, nan, nan, nan, nan, nan, nan, nan, nan, nan, nan, nan, nan, nan], [0.0, 0.0, 0.0, 0.0, 0.0, 0.0, 0.0, 0.19245008972987526, 0.0, 0.0, 0.0, nan, nan, nan, nan, 0.0, nan, nan, 0.0, 0.0], [nan, nan, nan, nan, nan, nan, nan, nan, nan, nan, nan, nan, nan, nan, nan, nan, nan, nan, nan, nan], [nan, nan, nan, nan, nan, nan, nan, nan, nan, nan, nan, nan, nan, nan, nan, nan, nan, nan, nan, nan], [0.0, 0.0, 0.0, 0.3244428422615251, 0.0, 0.0, 0.0, 0.0, 0.0, 0.0, 0.0, nan, nan, nan, nan, 0.0, nan, nan, 0.0, 0.0], [nan, nan, nan, nan, nan, nan, nan, nan, nan, nan, nan, nan, nan, nan, nan, nan, nan, nan, nan, nan], [nan, nan, nan, nan, nan, nan, nan, nan, nan, nan, nan, nan, nan, nan, nan, nan, nan, nan, nan, nan], [0.0, 0.10846522890932808, 0.8944271909999159, 0.0, 0.0, 0.0, 0.0, 0.0, 0.31622776601683794, 0.0, 0.0, nan, nan, nan, nan, 0.4472135954999579, nan, nan, 0.3999999999999999, 0.5070925528371099]]\n"
     ]
    }
   ],
   "source": [
    "print(distancias_resultados)"
   ]
  },
  {
   "cell_type": "code",
   "execution_count": 36,
   "id": "84389de3",
   "metadata": {},
   "outputs": [],
   "source": [
    "distancias_con_indices = []\n",
    "\n",
    "for i, distancias in enumerate(distancias_resultados):\n",
    "    # Iterar sobre cada distancia en la lista de distancias\n",
    "    for j, distancia in enumerate(distancias):\n",
    "        # Si la distancia no es un NaN y no es un 0, agregarla junto con su índice a la lista de distancias con índices\n",
    "        if not np.isnan(distancia) and distancia != 0.0:\n",
    "            distancias_con_indices.append((distancia, (i, j))) # i es la query y j es el texto con distancia"
   ]
  },
  {
   "cell_type": "code",
   "execution_count": 37,
   "id": "3d6f4dca",
   "metadata": {},
   "outputs": [
    {
     "name": "stdout",
     "output_type": "stream",
     "text": [
      "[(0.7276068751089989, (1, 1)), (0.3779644730092272, (1, 19)), (0.48507125007266594, (3, 1)), (0.8944271909999159, (3, 18)), (0.3779644730092272, (3, 19)), (0.5345224838248488, (4, 0)), (0.4472135954999579, (4, 6)), (1.0, (5, 5)), (0.46291004988627577, (6, 0)), (0.7745966692414834, (6, 6)), (0.2581988897471611, (6, 9)), (0.2581988897471611, (6, 10)), (0.3779644730092272, (7, 19)), (0.769800358919501, (8, 7)), (0.3779644730092272, (8, 19)), (0.8944271909999159, (9, 9)), (0.8944271909999159, (9, 10)), (0.24253562503633297, (10, 1)), (0.8111071056538127, (10, 3)), (1.0, (11, 2)), (0.4472135954999579, (11, 18)), (0.3779644730092272, (11, 19)), (0.19245008972987526, (13, 7)), (0.3244428422615251, (16, 3)), (0.10846522890932808, (19, 1)), (0.8944271909999159, (19, 2)), (0.31622776601683794, (19, 8)), (0.4472135954999579, (19, 15)), (0.3999999999999999, (19, 18)), (0.5070925528371099, (19, 19))]\n"
     ]
    }
   ],
   "source": [
    "print(distancias_con_indices)"
   ]
  },
  {
   "cell_type": "code",
   "execution_count": 30,
   "id": "931998b3",
   "metadata": {},
   "outputs": [],
   "source": [
    "# Ordenar la lista de distancias con índices de menor a mayor distancia\n",
    "distancias_ordenadas = sorted(distancias_con_indices)"
   ]
  },
  {
   "cell_type": "code",
   "execution_count": 32,
   "id": "7c6791f5",
   "metadata": {},
   "outputs": [
    {
     "name": "stdout",
     "output_type": "stream",
     "text": [
      "[(0.10846522890932808, (19, 1)), (0.19245008972987526, (13, 7)), (0.24253562503633297, (10, 1)), (0.2581988897471611, (6, 9)), (0.2581988897471611, (6, 10)), (0.31622776601683794, (19, 8)), (0.3244428422615251, (16, 3)), (0.3779644730092272, (1, 19)), (0.3779644730092272, (3, 19)), (0.3779644730092272, (7, 19)), (0.3779644730092272, (8, 19)), (0.3779644730092272, (11, 19)), (0.3999999999999999, (19, 18)), (0.4472135954999579, (4, 6)), (0.4472135954999579, (11, 18)), (0.4472135954999579, (19, 15)), (0.46291004988627577, (6, 0)), (0.48507125007266594, (3, 1)), (0.5070925528371099, (19, 19)), (0.5345224838248488, (4, 0)), (0.7276068751089989, (1, 1)), (0.769800358919501, (8, 7)), (0.7745966692414834, (6, 6)), (0.8111071056538127, (10, 3)), (0.8944271909999159, (3, 18)), (0.8944271909999159, (9, 9)), (0.8944271909999159, (9, 10)), (0.8944271909999159, (19, 2)), (1.0, (5, 5)), (1.0, (11, 2))]\n"
     ]
    }
   ],
   "source": [
    "print(distancias_ordenadas)"
   ]
  },
  {
   "cell_type": "code",
   "execution_count": 43,
   "id": "89370ee9",
   "metadata": {},
   "outputs": [],
   "source": [
    "# Ordenar la lista basada en el primer elemento de la tupla (i, j)\n",
    "resultado_consulta = sorted(distancias_ordenadas, key=lambda x: x[1][0]) #Tomo segundo termino, y luego el primero"
   ]
  },
  {
   "cell_type": "code",
   "execution_count": 44,
   "id": "746ca77b",
   "metadata": {},
   "outputs": [
    {
     "name": "stdout",
     "output_type": "stream",
     "text": [
      "[(0.3779644730092272, (1, 19)), (0.7276068751089989, (1, 1)), (0.3779644730092272, (3, 19)), (0.48507125007266594, (3, 1)), (0.8944271909999159, (3, 18)), (0.4472135954999579, (4, 6)), (0.5345224838248488, (4, 0)), (1.0, (5, 5)), (0.2581988897471611, (6, 9)), (0.2581988897471611, (6, 10)), (0.46291004988627577, (6, 0)), (0.7745966692414834, (6, 6)), (0.3779644730092272, (7, 19)), (0.3779644730092272, (8, 19)), (0.769800358919501, (8, 7)), (0.8944271909999159, (9, 9)), (0.8944271909999159, (9, 10)), (0.24253562503633297, (10, 1)), (0.8111071056538127, (10, 3)), (0.3779644730092272, (11, 19)), (0.4472135954999579, (11, 18)), (1.0, (11, 2)), (0.19245008972987526, (13, 7)), (0.3244428422615251, (16, 3)), (0.10846522890932808, (19, 1)), (0.31622776601683794, (19, 8)), (0.3999999999999999, (19, 18)), (0.4472135954999579, (19, 15)), (0.5070925528371099, (19, 19)), (0.8944271909999159, (19, 2))]\n"
     ]
    }
   ],
   "source": [
    "print(resultado_consulta)"
   ]
  },
  {
   "cell_type": "code",
   "execution_count": 59,
   "id": "5de0069d",
   "metadata": {},
   "outputs": [
    {
     "name": "stdout",
     "output_type": "stream",
     "text": [
      "\n",
      "RESULTADOS DE BUSQUEDA \n",
      "\n",
      "CONSULTA 2: Principales destinos turísticos en Europa\n",
      "\n",
      "TEXTO 20: Zoológico de Dortmund: El Zoológico de Dortmund es un lugar excelente para familias y amantes de la naturaleza. Con más de 1500 animales y un enfoque especial en la con servación de especies amenazadas, el zoológico proporciona una experiencia educativa y entretenida.\n",
      "Distancia hacia el texto 20: 0.3779644730092272\n",
      "\n",
      "TEXTO 2: El Palacio Real: El Palacio Real de Madrid es una de las residencias oficiales de la familia real española, aunque ahora se usa principalmente para ceremonias de estado. Con más de 3000 habitaciones, es el palacio real más grande de Europa Occidental y un testimonio del esplendor y la historia de España.\n",
      "Distancia hacia el texto 2: 0.7276068751089989\n",
      "\n",
      "\n",
      "CONSULTA 4: Importancia de los parques urbanos en las ciudades\n",
      "\n",
      "TEXTO 20: Zoológico de Dortmund: El Zoológico de Dortmund es un lugar excelente para familias y amantes de la naturaleza. Con más de 1500 animales y un enfoque especial en la con servación de especies amenazadas, el zoológico proporciona una experiencia educativa y entretenida.\n",
      "Distancia hacia el texto 20: 0.3779644730092272\n",
      "\n",
      "TEXTO 2: El Palacio Real: El Palacio Real de Madrid es una de las residencias oficiales de la familia real española, aunque ahora se usa principalmente para ceremonias de estado. Con más de 3000 habitaciones, es el palacio real más grande de Europa Occidental y un testimonio del esplendor y la historia de España.\n",
      "Distancia hacia el texto 2: 0.48507125007266594\n",
      "\n",
      "TEXTO 19: Dortmund durante la Segunda Guerra Mundial: Dortmund fue un objetivo significativo durante los bombardeos de la Segunda Guerra Mundial debido a su industria pesada. Hoy en día, varios monumentos y museos ofrecen reflexiones sobre este período y sus efectos en la ciudad.\n",
      "Distancia hacia el texto 19: 0.8944271909999159\n",
      "\n",
      "\n",
      "CONSULTA 5: Gastronomía típica en capitales europeas\n",
      "\n",
      "TEXTO 7: Real Madrid y el Estadio Santiago Bernabéu: El Real Madrid, uno de los clubes de fútbol más famosos y exitosos del mundo, juega sus partidos en el Estadio Santiago Bernabéu. Este estadio es una meca para los aficionados al fútbol y ofrece tours que permiten a los visitantes explorar su rica historia.\n",
      "Distancia hacia el texto 7: 0.4472135954999579\n",
      "\n",
      "TEXTO 1: Historia de Madrid: Madrid, la capital de España, tiene una rica historia que se remonta al siglo IX. La ciudad fue fundada por los musulmanes, y su nombre proviene del árabe “Majrit” que significa “fuente de agua”. A lo largo de los siglos, Madrid se ha convertido en un centro político, económico y cultural de España.\n",
      "Distancia hacia el texto 1: 0.5345224838248488\n",
      "\n",
      "\n",
      "CONSULTA 6: Eventos deportivos icónicos en Europa\n",
      "\n",
      "TEXTO 6: Gran Vía: La Gran Vía es una de las calles más famosas de Madrid, conocida por sus tiendas, teatros y arquitectura emblemática. Este bullicioso bulevar es un punto de encuentro para turistas y locales por igual.\n",
      "Distancia hacia el texto 6: 1.0\n",
      "\n",
      "\n",
      "CONSULTA 7: Celebraciones de Navidad en ciudades europeas\n",
      "\n",
      "TEXTO 10: Madrid Río: Madrid Río es un parque lineal a lo largo del río Manzanares y un ejemplo perfecto de cómo la ciudad ha transformado áreas industriales en espacios verdes vibrantes. Es un lugar popular para caminar, andar en bicicleta y disfrutar de actividades al aire libre.\n",
      "Distancia hacia el texto 10: 0.2581988897471611\n",
      "\n",
      "TEXTO 11: Historia de Dortmund: Dortmund, situada en la región del Ruhr en Alemania, tiene una historia que se remonta al año 882. Originalmente una pequeña villa, Dortmund creció para convertirse en una importante ciudad industrial, especialmente conocida por su producción de acero y cerveza.\n",
      "Distancia hacia el texto 11: 0.2581988897471611\n",
      "\n",
      "TEXTO 1: Historia de Madrid: Madrid, la capital de España, tiene una rica historia que se remonta al siglo IX. La ciudad fue fundada por los musulmanes, y su nombre proviene del árabe “Majrit” que significa “fuente de agua”. A lo largo de los siglos, Madrid se ha convertido en un centro político, económico y cultural de España.\n",
      "Distancia hacia el texto 1: 0.46291004988627577\n",
      "\n",
      "TEXTO 7: Real Madrid y el Estadio Santiago Bernabéu: El Real Madrid, uno de los clubes de fútbol más famosos y exitosos del mundo, juega sus partidos en el Estadio Santiago Bernabéu. Este estadio es una meca para los aficionados al fútbol y ofrece tours que permiten a los visitantes explorar su rica historia.\n",
      "Distancia hacia el texto 7: 0.7745966692414834\n",
      "\n",
      "\n",
      "CONSULTA 8: Museos de arte importantes en Europa\n",
      "\n",
      "TEXTO 20: Zoológico de Dortmund: El Zoológico de Dortmund es un lugar excelente para familias y amantes de la naturaleza. Con más de 1500 animales y un enfoque especial en la con servación de especies amenazadas, el zoológico proporciona una experiencia educativa y entretenida.\n",
      "Distancia hacia el texto 20: 0.3779644730092272\n",
      "\n",
      "\n",
      "CONSULTA 9: Efectos de la Segunda Guerra Mundial en ciudades europeas\n",
      "\n",
      "TEXTO 20: Zoológico de Dortmund: El Zoológico de Dortmund es un lugar excelente para familias y amantes de la naturaleza. Con más de 1500 animales y un enfoque especial en la con servación de especies amenazadas, el zoológico proporciona una experiencia educativa y entretenida.\n",
      "Distancia hacia el texto 20: 0.3779644730092272\n",
      "\n",
      "TEXTO 8: Navidad en Madrid: Durante la temporada navideña, Madrid se transforma con mercados festivos, luces deslumbrantes y decoraciones. La Plaza Mayor se convierte en un enorme mercado de Navidad, donde se pueden encontrar todo tipo de regalos y delicias tradicionales.\n",
      "Distancia hacia el texto 8: 0.769800358919501\n",
      "\n",
      "\n",
      "CONSULTA 10: Arquitectura histórica en ciudades europeas\n",
      "\n",
      "TEXTO 10: Madrid Río: Madrid Río es un parque lineal a lo largo del río Manzanares y un ejemplo perfecto de cómo la ciudad ha transformado áreas industriales en espacios verdes vibrantes. Es un lugar popular para caminar, andar en bicicleta y disfrutar de actividades al aire libre.\n",
      "Distancia hacia el texto 10: 0.8944271909999159\n",
      "\n",
      "TEXTO 11: Historia de Dortmund: Dortmund, situada en la región del Ruhr en Alemania, tiene una historia que se remonta al año 882. Originalmente una pequeña villa, Dortmund creció para convertirse en una importante ciudad industrial, especialmente conocida por su producción de acero y cerveza.\n",
      "Distancia hacia el texto 11: 0.8944271909999159\n",
      "\n",
      "\n",
      "CONSULTA 11: Clubes de fútbol famosos y sus estadios en Europa\n",
      "\n",
      "TEXTO 2: El Palacio Real: El Palacio Real de Madrid es una de las residencias oficiales de la familia real española, aunque ahora se usa principalmente para ceremonias de estado. Con más de 3000 habitaciones, es el palacio real más grande de Europa Occidental y un testimonio del esplendor y la historia de España.\n",
      "Distancia hacia el texto 2: 0.24253562503633297\n",
      "\n",
      "TEXTO 4: Parque del Retiro: El Parque del Retiro es el pulmón verde de Madrid. Antiguamente perteneciente a la monarquía española, este parque de 118 hectáreas ofrece un respiro de la vida urbana con sus estanques, jardines y el Palacio de Cristal.\n",
      "Distancia hacia el texto 4: 0.8111071056538127\n",
      "\n",
      "\n",
      "CONSULTA 12: Transformación urbana y regeneración de espacios\n",
      "\n",
      "TEXTO 20: Zoológico de Dortmund: El Zoológico de Dortmund es un lugar excelente para familias y amantes de la naturaleza. Con más de 1500 animales y un enfoque especial en la con servación de especies amenazadas, el zoológico proporciona una experiencia educativa y entretenida.\n",
      "Distancia hacia el texto 20: 0.3779644730092272\n",
      "\n",
      "TEXTO 19: Dortmund durante la Segunda Guerra Mundial: Dortmund fue un objetivo significativo durante los bombardeos de la Segunda Guerra Mundial debido a su industria pesada. Hoy en día, varios monumentos y museos ofrecen reflexiones sobre este período y sus efectos en la ciudad.\n",
      "Distancia hacia el texto 19: 0.4472135954999579\n",
      "\n",
      "TEXTO 3: Museo del Prado: El Museo del Prado es uno de los museos más famosos del mundo y un destino imprescindible para los amantes del arte que visitan Madrid. Alberga una impresionante colección de obras de Velázquez, Goya, El Greco y otros maestros europeos.\n",
      "Distancia hacia el texto 3: 1.0\n",
      "\n",
      "\n",
      "CONSULTA 14: Mercados y comercio tradicional en Europa\n",
      "\n",
      "TEXTO 8: Navidad en Madrid: Durante la temporada navideña, Madrid se transforma con mercados festivos, luces deslumbrantes y decoraciones. La Plaza Mayor se convierte en un enorme mercado de Navidad, donde se pueden encontrar todo tipo de regalos y delicias tradicionales.\n",
      "Distancia hacia el texto 8: 0.19245008972987526\n",
      "\n",
      "\n",
      "CONSULTA 17: Conservación de la naturaleza y la vida silvestre en zonas urbanas\n",
      "\n",
      "TEXTO 4: Parque del Retiro: El Parque del Retiro es el pulmón verde de Madrid. Antiguamente perteneciente a la monarquía española, este parque de 118 hectáreas ofrece un respiro de la vida urbana con sus estanques, jardines y el Palacio de Cristal.\n",
      "Distancia hacia el texto 4: 0.3244428422615251\n",
      "\n",
      "\n",
      "CONSULTA 20: Impacto de la tecnología en la vida urbana\n",
      "\n",
      "TEXTO 2: El Palacio Real: El Palacio Real de Madrid es una de las residencias oficiales de la familia real española, aunque ahora se usa principalmente para ceremonias de estado. Con más de 3000 habitaciones, es el palacio real más grande de Europa Occidental y un testimonio del esplendor y la historia de España.\n",
      "Distancia hacia el texto 2: 0.10846522890932808\n",
      "\n",
      "TEXTO 9: Nochevieja en Puerta del Sol: La Puerta del Sol es el corazón de Madrid y el lugar donde miles se reúnen cada Nochevieja para dar la bienvenida al año nuevo. Comer las doce uvas de la suerte al son de las campanadas del reloj es una tradición que todos deberían experimentar.\n",
      "Distancia hacia el texto 9: 0.31622776601683794\n",
      "\n",
      "TEXTO 19: Dortmund durante la Segunda Guerra Mundial: Dortmund fue un objetivo significativo durante los bombardeos de la Segunda Guerra Mundial debido a su industria pesada. Hoy en día, varios monumentos y museos ofrecen reflexiones sobre este período y sus efectos en la ciudad.\n",
      "Distancia hacia el texto 19: 0.3999999999999999\n",
      "\n",
      "TEXTO 16: Borussia Dortmund y el Signal Iduna Park: Borussia Dortmund es uno de los clubes de fútbol más populares y exitosos de Alemania. El equipo juega sus partidos en casa en el Signal Iduna Park, conocido por su increíble atmósfera y el famoso “Muro Amarillo”, la tribuna sur que alberga a 25000 aficionados apasionados.\n",
      "Distancia hacia el texto 16: 0.4472135954999579\n",
      "\n",
      "TEXTO 20: Zoológico de Dortmund: El Zoológico de Dortmund es un lugar excelente para familias y amantes de la naturaleza. Con más de 1500 animales y un enfoque especial en la con servación de especies amenazadas, el zoológico proporciona una experiencia educativa y entretenida.\n",
      "Distancia hacia el texto 20: 0.5070925528371099\n",
      "\n",
      "TEXTO 3: Museo del Prado: El Museo del Prado es uno de los museos más famosos del mundo y un destino imprescindible para los amantes del arte que visitan Madrid. Alberga una impresionante colección de obras de Velázquez, Goya, El Greco y otros maestros europeos.\n",
      "Distancia hacia el texto 3: 0.8944271909999159\n",
      "\n"
     ]
    }
   ],
   "source": [
    "current_i = None\n",
    "\n",
    "print(\"\\nRESULTADOS DE BUSQUEDA \\n\")\n",
    "\n",
    "for distancia, (i, j) in resultado_consulta:\n",
    "    if i != current_i:\n",
    "        if current_i is not None:\n",
    "            print()  # Imprimir una línea en blanco para separar grupos\n",
    "        current_i = i\n",
    "        print(f\"CONSULTA {i+1}: {queries[i]}\")\n",
    "        print()\n",
    "    print(f\"TEXTO {j+1}: {textos[j]}\")\n",
    "    print(f\"Distancia hacia el texto {j+1}: {distancia}\") #({distancia}, ({i}, {j}))\n",
    "    print()"
   ]
  }
 ],
 "metadata": {
  "kernelspec": {
   "display_name": "Python 3 (ipykernel)",
   "language": "python",
   "name": "python3"
  },
  "language_info": {
   "codemirror_mode": {
    "name": "ipython",
    "version": 3
   },
   "file_extension": ".py",
   "mimetype": "text/x-python",
   "name": "python",
   "nbconvert_exporter": "python",
   "pygments_lexer": "ipython3",
   "version": "3.11.7"
  }
 },
 "nbformat": 4,
 "nbformat_minor": 5
}
