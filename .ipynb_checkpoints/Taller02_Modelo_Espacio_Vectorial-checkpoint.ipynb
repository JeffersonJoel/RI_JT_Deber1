{
 "cells": [
  {
   "cell_type": "code",
   "execution_count": 1,
   "id": "547ff912",
   "metadata": {},
   "outputs": [],
   "source": [
    "import os\n",
    "import re\n",
    "import inflect"
   ]
  },
  {
   "cell_type": "code",
   "execution_count": 2,
   "id": "eeeaf40c",
   "metadata": {},
   "outputs": [],
   "source": [
    "textos = [\n",
    "    \"Historia de Madrid: Madrid, la capital de España, tiene una rica historia que se remonta al siglo IX. La ciudad fue fundada por los musulmanes, y su nombre proviene del árabe “Majrit” que significa “fuente de agua”. A lo largo de los siglos, Madrid se ha convertido en un centro político, económico y cultural de España.\",\n",
    "    \"El Palacio Real: El Palacio Real de Madrid es una de las residencias oficiales de la familia real española, aunque ahora se usa principalmente para ceremonias de estado. Con más de 3000 habitaciones, es el palacio real más grande de Europa Occidental y un testimonio del esplendor y la historia de España.\",\n",
    "    \"Museo del Prado: El Museo del Prado es uno de los museos más famosos del mundo y un destino imprescindible para los amantes del arte que visitan Madrid. Alberga una impresionante colección de obras de Velázquez, Goya, El Greco y otros maestros europeos.\",\n",
    "    \"Parque del Retiro: El Parque del Retiro es el pulmón verde de Madrid. Antiguamente perteneciente a la monarquía española, este parque de 118 hectáreas ofrece un respiro de la vida urbana con sus estanques, jardines y el Palacio de Cristal.\",\n",
    "    \"Gastronomía Madrileña: Madrid es famosa por su vibrante escena gastronómica que incluye desde tapas en pequeños bares hasta restaurantes de alta cocina. Platos típicos como el cocido madrileño y las patatas bravas son esenciales para cualquier visitante.\",\n",
    "    \"Gran Vía: La Gran Vía es una de las calles más famosas de Madrid, conocida por sus tiendas, teatros y arquitectura emblemática. Este bullicioso bulevar es un punto de encuentro para turistas y locales por igual.\",\n",
    "    \"Real Madrid y el Estadio Santiago Bernabéu: El Real Madrid, uno de los clubes de fútbol más famosos y exitosos del mundo, juega sus partidos en el Estadio Santiago Bernabéu. Este estadio es una meca para los aficionados al fútbol y ofrece tours que permiten a los visitantes explorar su rica historia.\",\n",
    "    \"Navidad en Madrid: Durante la temporada navideña, Madrid se transforma con mercados festivos, luces deslumbrantes y decoraciones. La Plaza Mayor se convierte en un enorme mercado de Navidad, donde se pueden encontrar todo tipo de regalos y delicias tradicionales.\",\n",
    "    \"Nochevieja en Puerta del Sol: La Puerta del Sol es el corazón de Madrid y el lugar donde miles se reúnen cada Nochevieja para dar la bienvenida al año nuevo. Comer las doce uvas de la suerte al son de las campanadas del reloj es una tradición que todos deberían experimentar.\",\n",
    "    \"Madrid Río: Madrid Río es un parque lineal a lo largo del río Manzanares y un ejemplo perfecto de cómo la ciudad ha transformado áreas industriales en espacios verdes vibrantes. Es un lugar popular para caminar, andar en bicicleta y disfrutar de actividades al aire libre.\",\n",
    "    \"Historia de Dortmund: Dortmund, situada en la región del Ruhr en Alemania, tiene una historia que se remonta al año 882. Originalmente una pequeña villa, Dortmund creció para convertirse en una importante ciudad industrial, especialmente conocida por su producción de acero y cerveza.\",\n",
    "    \"Westfalenpark: Westfalenpark es uno de los parques urbanos más grandes de Europa y un lugar destacado para los visitantes en Dortmund. El parque es famoso por su Rosarium, que alberga una de las colecciones más extensas de rosas en el mundo, y la torre Florian, que ofrece vistas panorámicas de la ciudad.\",\n",
    "    \"Museo del Fútbol Alemán: Inaugurado en 2015, el Museo del Fútbol Alemán ofrece una experiencia interactiva que celebra la rica historia del fútbol alemán. Ubicado en Dortmund, el museo atrae a aficionados de todo el mundo y destaca por sus exposiciones que cuentan desde los primeros días del deporte hasta los triunfos en Copas del Mundo.\",\n",
    "    \"Mercado de Navidad de Dortmund: El Mercado de Navidad de Dortmund es uno de los más grandes y más visitados de Alemania. Con su gigantesco árbol de Navidad, posiblemente el más alto de los mercados navideños del país, y más de 300 puestos que venden artesanías, alimentos y bebidas tradicionales, es un evento imperdible durante la temporada festiva.\",\n",
    "    \"U-Tower - Centro de Arte y Creatividad: El U-Tower, una antigua cervecería reconvertida, es ahora un centro dinámico de arte y creatividad. Alberga el Museo Ostwall, espacios de exposiciones y estudios de artistas, y es un símbolo de la transformación cultural de Dortmund.\",\n",
    "    \"Borussia Dortmund y el Signal Iduna Park: Borussia Dortmund es uno de los clubes de fútbol más populares y exitosos de Alemania. El equipo juega sus partidos en casa en el Signal Iduna Park, conocido por su increíble atmósfera y el famoso “Muro Amarillo”, la tribuna sur que alberga a 25000 aficionados apasionados.\",\n",
    "    \"La cervecería Dortmund: Dortmund tiene una larga tradición cervecera, y la visita a una de sus muchas cervecerías es una parada obligatoria. Las cervecerías ofrecen tours que incluyen degustaciones de cervezas locales como Dortmunder Export, una lager que es un orgullo de la ciudad.\",\n",
    "    \"La Reinoldikirche: La iglesia de San Reinold es el edificio más antiguo de Dortmund, datando del siglo XIII. Es un punto de referencia histórico importante y ofrece a los visitantes una mirada al pasado medieval de la ciudad.\",\n",
    "    \"Dortmund durante la Segunda Guerra Mundial: Dortmund fue un objetivo significativo durante los bombardeos de la Segunda Guerra Mundial debido a su industria pesada. Hoy en día, varios monumentos y museos ofrecen reflexiones sobre este período y sus efectos en la ciudad.\",\n",
    "    \"Zoológico de Dortmund: El Zoológico de Dortmund es un lugar excelente para familias y amantes de la naturaleza. Con más de 1500 animales y un enfoque especial en la con servación de especies amenazadas, el zoológico proporciona una experiencia educativa y entretenida.\"\n",
    "]"
   ]
  },
  {
   "cell_type": "code",
   "execution_count": 3,
   "id": "27c2692b",
   "metadata": {},
   "outputs": [],
   "source": [
    "def clasificar_palabra(palabra):\n",
    "    # Definir listas de palabras clave para cada categoría\n",
    "    categorias = {\n",
    "        \"Turismo\": [\"playa\", \"hotel\", \"museo\", \"monumento\", \"excursión\", \"turista\", \"vacaciones\"],\n",
    "        \"Historia\": [\"revolución\", \"imperio\", \"siglo\", \"colonización\", \"rey\", \"batalla\", \"independencia\", \"historia\"],\n",
    "        \"Guerra\": [\"soldado\", \"armamento\", \"batalla\", \"guerra\", \"conflicto\", \"ejército\", \"frente\"],\n",
    "        \"Fútbol\": [\"equipo\", \"estadio\", \"gol\", \"jugador\", \"partido\", \"campeonato\", \"liga\"],\n",
    "        \"Realeza\": [\"rey\", \"reina\", \"palacio\", \"corona\", \"princesa\", \"monarquía\", \"duque\"],\n",
    "        \"Gastronomía\": [\"comida\", \"plato\", \"restaurante\", \"chef\", \"cocina\", \"sabor\", \"receta\"],\n",
    "        \"Arte y Cultura\": [\"museo\", \"exposición\", \"pintura\", \"escultura\", \"teatro\", \"danza\", \"música\"],\n",
    "        \"Naturaleza y Medio Ambiente\": [\"parque\", \"bosque\", \"río\", \"montaña\", \"flora\", \"fauna\", \"conservación\"],\n",
    "        \"Arquitectura\": [\"edificio\", \"diseño\", \"estructura\", \"monumento\", \"catedral\", \"rascacielos\", \"puente\"],\n",
    "        \"Comercio\": [\"mercado\", \"tienda\", \"venta\", \"compra\", \"negocio\", \"economía\", \"transacción\"],\n",
    "        \"Festividades\": [\"celebración\", \"festival\", \"evento\", \"feria\", \"navidad\", \"cumpleaños\", \"aniversario\"],\n",
    "        \"Transporte\": [\"coche\", \"avión\", \"tren\", \"autobús\", \"puerto\", \"carretera\", \"metro\"],\n",
    "        \"Educación\": [\"escuela\", \"universidad\", \"clase\", \"profesor\", \"estudiante\", \"aprendizaje\", \"examen\"],\n",
    "        \"Tecnología\": [\"computadora\", \"internet\", \"software\", \"hardware\", \"innovación\", \"gadgets\", \"redes\"],\n",
    "        \"Deportes (otros)\": [\"tenis\", \"baloncesto\", \"natación\", \"ciclismo\", \"atletismo\", \"gimnasia\", \"voleibol\"],\n",
    "        \"Religión\": [\"iglesia\", \"templo\", \"dios\", \"ritual\", \"sacerdote\", \"fe\", \"oración\"],\n",
    "        \"Ocio y Entretenimiento\": [\"cine\", \"televisión\", \"juego\", \"videojuego\", \"parque de atracciones\", \"discoteca\", \"concierto\"],\n",
    "        \"Salud y Bienestar\": [\"hospital\", \"medicina\", \"doctor\", \"enfermera\", \"terapia\", \"salud\", \"bienestar\"],\n",
    "        \"Industria\": [\"fábrica\", \"producción\", \"manufactura\", \"industrial\", \"sector\", \"empresa\", \"maquinaria\"],\n",
    "        \"Urbanismo\": [\"ciudad\", \"planificación\", \"desarrollo\", \"infraestructura\", \"barrio\", \"urbanización\", \"espacio público\"]\n",
    "    }\n",
    "\n",
    "    # Convertir la palabra ingresada a minúsculas\n",
    "    palabra = palabra.lower()\n",
    "    \n",
    "    # Verificar en cuál lista se encuentra la palabra\n",
    "    for categoria, palabras_clave in categorias.items():\n",
    "        if palabra in palabras_clave:\n",
    "            return categoria\n",
    "    \n",
    "    return \"No se encontró una categoría para la palabra ingresada\"\n"
   ]
  },
  {
   "cell_type": "code",
   "execution_count": 6,
   "id": "df4f1fb6",
   "metadata": {},
   "outputs": [
    {
     "name": "stdout",
     "output_type": "stream",
     "text": [
      "Ingresa una palabra: turista\n",
      "La palabra 'turista' pertenece a la categoría: Turismo\n"
     ]
    }
   ],
   "source": [
    "palabra = input(\"Ingresa una palabra: \")\n",
    "categoria = clasificar_palabra(palabra)\n",
    "print(f\"La palabra '{palabra}' pertenece a la categoría: {categoria}\")"
   ]
  }
 ],
 "metadata": {
  "kernelspec": {
   "display_name": "Python 3 (ipykernel)",
   "language": "python",
   "name": "python3"
  },
  "language_info": {
   "codemirror_mode": {
    "name": "ipython",
    "version": 3
   },
   "file_extension": ".py",
   "mimetype": "text/x-python",
   "name": "python",
   "nbconvert_exporter": "python",
   "pygments_lexer": "ipython3",
   "version": "3.11.7"
  }
 },
 "nbformat": 4,
 "nbformat_minor": 5
}
