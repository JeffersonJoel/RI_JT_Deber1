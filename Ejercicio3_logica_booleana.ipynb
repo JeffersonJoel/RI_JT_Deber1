{
 "cells": [
  {
   "cell_type": "markdown",
   "id": "0e0d5f33",
   "metadata": {},
   "source": [
    "# Boolean Search in Documents\n",
    "## Objective\n",
    "\n",
    "Expand the simple term search functionality to include Boolean search capabilities. This will allow users to perform more complex queries by combining multiple search terms using Boolean operators.\n",
    "\n",
    "## Problem Description\n",
    "\n",
    "You must enhance the existing search engine from the previous exercise to support Boolean operators: AND, OR, and NOT. This will enable the retrieval of documents based on the logical relationships between multiple terms."
   ]
  },
  {
   "cell_type": "code",
   "execution_count": 1,
   "id": "c7e9ca05",
   "metadata": {},
   "outputs": [],
   "source": [
    "import os\n",
    "import re\n",
    "import inflect"
   ]
  },
  {
   "cell_type": "markdown",
   "id": "ddd9901e",
   "metadata": {},
   "source": [
    "## Requirements\n",
    "### Step 1: Update Data Preparation\n",
    "\n",
    "Ensure that the documents are still loaded and preprocessed from the previous task. The data should be clean and ready for advanced querying.\n",
    "\n",
    "### Step 2: Create an Inverted Index\n",
    "\n",
    "Create an inverted index from the documents. This index maps each word to the set of document IDs in which that word appears. This facilitates word lookup in the search process."
   ]
  },
  {
   "cell_type": "code",
   "execution_count": 2,
   "id": "cb0d57a7",
   "metadata": {},
   "outputs": [],
   "source": [
    "def crear_matriz(carpeta):\n",
    "    fila_palabras = []\n",
    "    matriz = []\n",
    "    columna_documentos = []\n",
    "\n",
    "    inflect_engine = inflect.engine()\n",
    "    \n",
    "    for archivo in os.listdir(carpeta):\n",
    "        if archivo.endswith(\".txt\"):\n",
    "            columna_documentos.append(archivo)\n",
    "            print(archivo + \"Primera Revision\")\n",
    "            ruta_archivo = os.path.join(carpeta, archivo)\n",
    "            \n",
    "            with open(ruta_archivo, \"r\", encoding=\"utf-8\") as file:\n",
    "                contenido = file.read().lower()\n",
    "                \n",
    "                # Utilizar expresión regular para extraer palabras\n",
    "                palabras = re.findall(r'\\b[a-zA-Z]+\\b', contenido)\n",
    "                \n",
    "                # Singularizar y añadir a fila_palabras_temporal\n",
    "                fila_palabras_temporal = set(inflect_engine.singular_noun(palabra) or palabra for palabra in palabras)\n",
    "            \n",
    "                # Singularizar y añadir a fila_palabras\n",
    "                for palabra in palabras:\n",
    "                    palabra_singular = inflect_engine.singular_noun(palabra) or palabra\n",
    "                    if palabra_singular not in fila_palabras:\n",
    "                        fila_palabras.append(palabra_singular)\n",
    "    \n",
    "    # Inicializar la matriz con ceros\n",
    "    matriz = [[0 for _ in range(len(columna_documentos))] for _ in range(len(fila_palabras))]\n",
    "\n",
    "    # Rellenar la matriz con la información de los documentos\n",
    "    for col_idx, archivo in enumerate(columna_documentos):\n",
    "        print(archivo + \"Segunda Revision\")\n",
    "        ruta_archivo = os.path.join(carpeta, archivo)\n",
    "        \n",
    "        with open(ruta_archivo, \"r\", encoding=\"utf-8\") as file:\n",
    "            contenido = file.read().lower()\n",
    "            \n",
    "            # Utilizar expresión regular para extraer palabras\n",
    "            palabras = re.findall(r'\\b[a-zA-Z]+\\b', contenido)\n",
    "            \n",
    "            # Singularizar palabras\n",
    "            palabras_singularizadas = set(inflect_engine.singular_noun(palabra) or palabra for palabra in palabras)\n",
    "            \n",
    "            # Actualizar la matriz para las palabras presentes en el documento actual\n",
    "            for palabra in palabras_singularizadas:\n",
    "                if palabra in fila_palabras:\n",
    "                    fila_idx = fila_palabras.index(palabra)\n",
    "                    matriz[fila_idx][col_idx] = 1\n",
    "    \n",
    "    return columna_documentos, fila_palabras, matriz\n"
   ]
  },
  {
   "cell_type": "markdown",
   "id": "29bbe729",
   "metadata": {},
   "source": [
    "### Step 3: Implementing Boolean Search\n",
    "\n",
    "- Enhance Input Query: Modify the function to accept complex queries that can include the Boolean operators AND, OR, and NOT.\n",
    "- Implement Boolean Logic:\n",
    " - AND: The document must contain all the terms. For example, python AND programming should return documents containing both \"python\" and \"programming\".\n",
    " - OR: The document can contain any of the terms. For example, python OR programming should return documents containing either \"python\", \"programming\", or both.\n",
    " - NOT: The document must not contain the term following NOT. For example, python NOT snake should return documents that contain \"python\" but not \"snake\"."
   ]
  },
  {
   "cell_type": "code",
   "execution_count": 35,
   "id": "d20cbe81",
   "metadata": {},
   "outputs": [],
   "source": [
    "def buscar_palabra(consulta, columna_documentos, fila_palabras, matriz):\n",
    "    inflect_engine = inflect.engine()\n",
    "    \n",
    "    def obtener_fila_palabra(palabra):\n",
    "        palabra_singular = inflect_engine.singular_noun(palabra.lower()) or palabra.lower()\n",
    "        if palabra_singular in fila_palabras:\n",
    "            fila_idx = fila_palabras.index(palabra_singular)\n",
    "            return matriz[fila_idx]\n",
    "        else:\n",
    "            return [0] * len(columna_documentos)\n",
    "    \n",
    "    def parsear_consulta(consulta):\n",
    "        consulta = consulta.upper()\n",
    "        tokens = re.split(r'\\s+(AND|OR|NOT)\\s+', consulta)\n",
    "        print(tokens)\n",
    "        return tokens\n",
    "\n",
    "    def aplicar_operacion_logica(operacion, filas):\n",
    "        if operacion == \"AND\":\n",
    "            return list(map(int, map(all, zip(*filas))))\n",
    "        elif operacion == \"OR\":\n",
    "            return list(map(int, map(any, zip(*filas))))\n",
    "        elif operacion == \"NOT\":\n",
    "            return [1 - x for x in filas[0]]\n",
    "        else:\n",
    "            raise ValueError(f\"Operación lógica desconocida: {operacion}\")\n",
    "    \n",
    "    tokens = parsear_consulta(consulta)\n",
    "    \n",
    "    # Almacena filas según las palabras\n",
    "    filas = []\n",
    "    operaciones = []\n",
    "\n",
    "    for token in tokens:\n",
    "        if token in {\"AND\", \"OR\", \"NOT\"}:\n",
    "            print(token)\n",
    "            operaciones.append(token)\n",
    "        else:\n",
    "            filas.append(obtener_fila_palabra(token))\n",
    "    \n",
    "    # Aplica las operaciones lógicas\n",
    "    while operaciones:\n",
    "        operacion = operaciones.pop(0)\n",
    "        if operacion == \"NOT\":\n",
    "            fila = filas.pop(0)\n",
    "            resultado = aplicar_operacion_logica(operacion, [fila])\n",
    "            filas.insert(0, resultado)\n",
    "        else:\n",
    "            fila1 = filas.pop(0)\n",
    "            fila2 = filas.pop(0)\n",
    "            resultado = aplicar_operacion_logica(operacion, [fila1, fila2])\n",
    "            filas.insert(0, resultado)\n",
    "    \n",
    "    # Convertir el resultado a nombres de documentos\n",
    "    resultado_final = filas[0]\n",
    "    documentos_presentes = [columna_documentos[col_idx] for col_idx, presente in enumerate(resultado_final) if presente == 1]\n",
    "    \n",
    "    return documentos_presentes\n"
   ]
  },
  {
   "cell_type": "code",
   "execution_count": 4,
   "id": "febc4e06",
   "metadata": {},
   "outputs": [],
   "source": [
    "# Carpeta donde se encuentran los archivos txt\n",
    "carpeta_data = \"data_muestra\""
   ]
  },
  {
   "cell_type": "code",
   "execution_count": 5,
   "id": "4c871f8f",
   "metadata": {},
   "outputs": [
    {
     "name": "stdout",
     "output_type": "stream",
     "text": [
      "pg11.txtPrimera Revision\n",
      "pg16.txtPrimera Revision\n",
      "pg23.txtPrimera Revision\n",
      "pg11.txtSegunda Revision\n",
      "pg16.txtSegunda Revision\n",
      "pg23.txtSegunda Revision\n"
     ]
    }
   ],
   "source": [
    "# Realizar diccionario con la matriz binaria\n",
    "columnas_doc, fila_palabras, matriz_binaria = crear_matriz(carpeta_data)"
   ]
  },
  {
   "cell_type": "markdown",
   "id": "da497dbe",
   "metadata": {},
   "source": [
    "Textos Ejemplos: pg11.txt (Mouse, Rabbit, Alice) --- pg16.txt(Mouse, Rabbit, Barrie) --- pg23.txt(Douglass)"
   ]
  },
  {
   "cell_type": "markdown",
   "id": "6ff157f1",
   "metadata": {},
   "source": [
    "### Step 4: Query Processing\n",
    "\n",
    "- Parse the Query: Implement a function to parse the input query to identify the terms and operators.\n",
    "- Search Documents: Based on the parsed query, implement the logic to retrieve and rank the documents according to the Boolean expressions.\n",
    "- Handling Case Sensitivity and Partial Matches: Optionally, you can handle cases and partial matches to refine the search results."
   ]
  },
  {
   "cell_type": "code",
   "execution_count": 90,
   "id": "0b7b7da5",
   "metadata": {},
   "outputs": [
    {
     "name": "stdout",
     "output_type": "stream",
     "text": [
      "Ingrese la palabra que desea buscar: Mouse AND Rabbit\n"
     ]
    }
   ],
   "source": [
    "# Pedir al usuario que ingrese la palabra a buscar\n",
    "palabra_a_buscar = input(\"Ingrese la palabra que desea buscar: \")"
   ]
  },
  {
   "cell_type": "code",
   "execution_count": 91,
   "id": "32f54f43",
   "metadata": {},
   "outputs": [
    {
     "name": "stdout",
     "output_type": "stream",
     "text": [
      "['MOUSE', 'AND', 'RABBIT']\n",
      "AND\n"
     ]
    }
   ],
   "source": [
    "#Realizar busqueda\n",
    "archivos_encontrados = buscar_palabra(palabra_a_buscar, columnas_doc, fila_palabras, matriz_binaria)"
   ]
  },
  {
   "cell_type": "markdown",
   "id": "48f6f620",
   "metadata": {},
   "source": [
    "### Step 5: Displaying Results\n",
    "\n",
    "- Output the Results: Display the documents that match the query criteria. Include functionalities to handle queries that result in no matching documents."
   ]
  },
  {
   "cell_type": "code",
   "execution_count": 92,
   "id": "a84e281b",
   "metadata": {},
   "outputs": [
    {
     "name": "stdout",
     "output_type": "stream",
     "text": [
      "\n",
      "Esa palabra aparece en los siguientes archivos:\n",
      "pg11.txt\n",
      "pg16.txt\n"
     ]
    }
   ],
   "source": [
    "# Se comprueba que la lista archivos_con_palabra tenga algo\n",
    "if archivos_encontrados: \n",
    "    print(\"\")\n",
    "    print(\"Esa palabra aparece en los siguientes archivos:\")\n",
    "    for archivo in archivos_encontrados:\n",
    "        print(archivo)\n",
    "else:\n",
    "    print(\"La palabra no se encontró en ningún archivo.\")"
   ]
  },
  {
   "cell_type": "markdown",
   "id": "5608fda8",
   "metadata": {},
   "source": [
    "### Evaluation Criteria\n",
    "\n",
    "- Correctness: The Boolean search implementation should correctly interpret and process the queries according to the Boolean logic.\n",
    "- Efficiency: Consider the efficiency of your search process, especially as the complexity of queries increases.\n",
    "- User Experience: Ensure that the interface for inputting queries and viewing results is user-friendly.\n",
    "\n",
    "### Additional Challenges (Optional)\n",
    "\n",
    "- Nested Boolean Queries: Allow for nested queries using parentheses, such as (python OR java) AND programming.\n",
    "- Phrase Searching: Implement the ability to search for exact phrases enclosed in quotes.\n",
    "- Proximity Searching: Extend the search to find terms that are within a specific distance from one another.\n",
    "\n",
    "This exercise will deepen your understanding of how search engines process and respond to complex user queries. By incorporating Boolean search, you not only enhance the functionality of your search engine but also mimic more closely how real-world information retrieval systems operate."
   ]
  }
 ],
 "metadata": {
  "kernelspec": {
   "display_name": "Python 3 (ipykernel)",
   "language": "python",
   "name": "python3"
  },
  "language_info": {
   "codemirror_mode": {
    "name": "ipython",
    "version": 3
   },
   "file_extension": ".py",
   "mimetype": "text/x-python",
   "name": "python",
   "nbconvert_exporter": "python",
   "pygments_lexer": "ipython3",
   "version": "3.11.7"
  }
 },
 "nbformat": 4,
 "nbformat_minor": 5
}
