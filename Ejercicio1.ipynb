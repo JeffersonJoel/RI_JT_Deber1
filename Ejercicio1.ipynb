{
 "cells": [
  {
   "cell_type": "code",
   "execution_count": 1,
   "id": "5ef64be5",
   "metadata": {},
   "outputs": [],
   "source": [
    "import os\n",
    "import re"
   ]
  },
  {
   "cell_type": "code",
   "execution_count": 2,
   "id": "ec7da9bb",
   "metadata": {},
   "outputs": [],
   "source": [
    "# Función para buscar una palabra en los archivos txt de la carpeta \"data\"\n",
    "def buscar_palabra(palabra, carpeta):\n",
    "    archivos_con_palabra = []\n",
    "    for archivo in os.listdir(carpeta): #Se itera sobre los nombres de archivos\n",
    "        if archivo.endswith(\".txt\"): #Se comprueba si el archivo tiene la extensión '.txt'\n",
    "            #Se contruye la ruta completa del archivo carpeta\\archivo\n",
    "            ruta_archivo = os.path.join(carpeta, archivo) \n",
    "\n",
    "            #Abrir archivo en modo lectura (r) y codificacion utf-8 para caracteres especiales\n",
    "            with open(ruta_archivo, \"r\", encoding=\"utf-8\") as file:     \n",
    "                #Lee el contenido completo del archivo y lo almacena en variable contenido\n",
    "                contenido = file.read() \n",
    "                # Buscar la palabra en el contenido del archivo\n",
    "                # escape escapa cualquier caracter especial que este dentro de la palabra\n",
    "                # para que no sea tomada como metacaracter ej \"foo.bar\"\n",
    "                # r'(?<![a-zA-Z_-])' (negative lookbehind assertion)\n",
    "                # y r'(?![a-zA-Z_-])' (negative lookahead assertion) \n",
    "                # se aguran que la palabra se encuentre sola\n",
    "                patron = r'(?<![a-zA-Z_-])' + re.escape(palabra) + r'(?![a-zA-Z_-])'\n",
    "\n",
    "                #Se comprueba si hay coincidencia dentro del contenido\n",
    "                if re.search(patron, contenido): \n",
    "                    # Una vez confirmado se agrega el nombre del archivo a la lista\n",
    "                    archivos_con_palabra.append(archivo)\n",
    "                    print(f\"Palabra encontrada en el archivo: {archivo}\")\n",
    "    # Retorna la lista con los archivos en los que aparece la palabra\n",
    "    return archivos_con_palabra"
   ]
  },
  {
   "cell_type": "code",
   "execution_count": 3,
   "id": "9ef86406",
   "metadata": {},
   "outputs": [
    {
     "name": "stdout",
     "output_type": "stream",
     "text": [
      "Ingrese la palabra que desea buscar: Rose\n"
     ]
    }
   ],
   "source": [
    "# Pedir al usuario que ingrese la palabra a buscar\n",
    "palabra_a_buscar = input(\"Ingrese la palabra que desea buscar: \")"
   ]
  },
  {
   "cell_type": "code",
   "execution_count": 4,
   "id": "f5d221f5",
   "metadata": {},
   "outputs": [],
   "source": [
    "# Carpeta donde se encuentran los archivos txt\n",
    "carpeta_data = \"data\""
   ]
  },
  {
   "cell_type": "code",
   "execution_count": 5,
   "id": "62e3ae2e",
   "metadata": {},
   "outputs": [
    {
     "name": "stdout",
     "output_type": "stream",
     "text": [
      "Palabra encontrada en el archivo: pg100.txt\n",
      "Palabra encontrada en el archivo: pg1260.txt\n",
      "Palabra encontrada en el archivo: pg145.txt\n",
      "Palabra encontrada en el archivo: pg16389.txt\n",
      "Palabra encontrada en el archivo: pg16594.txt\n",
      "Palabra encontrada en el archivo: pg19926.txt\n",
      "Palabra encontrada en el archivo: pg21700.txt\n",
      "Palabra encontrada en el archivo: pg25344.txt\n",
      "Palabra encontrada en el archivo: pg2591.txt\n",
      "Palabra encontrada en el archivo: pg2701.txt\n",
      "Palabra encontrada en el archivo: pg28556.txt\n",
      "Palabra encontrada en el archivo: pg29870.txt\n",
      "Palabra encontrada en el archivo: pg37106.txt\n",
      "Palabra encontrada en el archivo: pg39407.txt\n",
      "Palabra encontrada en el archivo: pg40438.txt\n",
      "Palabra encontrada en el archivo: pg4300.txt\n",
      "Palabra encontrada en el archivo: pg47475.txt\n",
      "Palabra encontrada en el archivo: pg5131.txt\n",
      "Palabra encontrada en el archivo: pg5197.txt\n",
      "Palabra encontrada en el archivo: pg52862.txt\n",
      "Palabra encontrada en el archivo: pg54023.txt\n",
      "Palabra encontrada en el archivo: pg6130.txt\n",
      "Palabra encontrada en el archivo: pg62354.txt\n",
      "Palabra encontrada en el archivo: pg6593.txt\n",
      "Palabra encontrada en el archivo: pg67979.txt\n",
      "Palabra encontrada en el archivo: pg73444.txt\n",
      "Palabra encontrada en el archivo: pg844.txt\n",
      "Palabra encontrada en el archivo: pg8800.txt\n"
     ]
    }
   ],
   "source": [
    "# Buscar la palabra en los archivos txt de la carpeta \"data\"\n",
    "archivos_encontrados = buscar_palabra(palabra_a_buscar, carpeta_data)"
   ]
  },
  {
   "cell_type": "code",
   "execution_count": 6,
   "id": "9f08cc82",
   "metadata": {},
   "outputs": [
    {
     "name": "stdout",
     "output_type": "stream",
     "text": [
      "\n",
      "Esa palabra aparece en los siguientes archivos:\n",
      "pg100.txt\n",
      "pg1260.txt\n",
      "pg145.txt\n",
      "pg16389.txt\n",
      "pg16594.txt\n",
      "pg19926.txt\n",
      "pg21700.txt\n",
      "pg25344.txt\n",
      "pg2591.txt\n",
      "pg2701.txt\n",
      "pg28556.txt\n",
      "pg29870.txt\n",
      "pg37106.txt\n",
      "pg39407.txt\n",
      "pg40438.txt\n",
      "pg4300.txt\n",
      "pg47475.txt\n",
      "pg5131.txt\n",
      "pg5197.txt\n",
      "pg52862.txt\n",
      "pg54023.txt\n",
      "pg6130.txt\n",
      "pg62354.txt\n",
      "pg6593.txt\n",
      "pg67979.txt\n",
      "pg73444.txt\n",
      "pg844.txt\n",
      "pg8800.txt\n"
     ]
    }
   ],
   "source": [
    "# Imprimir los archivos donde se encontró la palabra\n",
    "# Se comprueba que la lista archivos_con_palabra tenga algo\n",
    "if archivos_encontrados: \n",
    "    print(\"\")\n",
    "    print(\"Esa palabra aparece en los siguientes archivos:\")\n",
    "    for archivo in archivos_encontrados:\n",
    "        print(archivo)\n",
    "else:\n",
    "    print(\"La palabra no se encontró en ningún archivo.\")"
   ]
  }
 ],
 "metadata": {
  "kernelspec": {
   "display_name": "Python 3 (ipykernel)",
   "language": "python",
   "name": "python3"
  },
  "language_info": {
   "codemirror_mode": {
    "name": "ipython",
    "version": 3
   },
   "file_extension": ".py",
   "mimetype": "text/x-python",
   "name": "python",
   "nbconvert_exporter": "python",
   "pygments_lexer": "ipython3",
   "version": "3.11.7"
  }
 },
 "nbformat": 4,
 "nbformat_minor": 5
}
