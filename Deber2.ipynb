{
 "cells": [
  {
   "cell_type": "code",
   "execution_count": 1,
   "id": "eece79c0",
   "metadata": {},
   "outputs": [],
   "source": [
    "import os\n",
    "import re"
   ]
  },
  {
   "cell_type": "code",
   "execution_count": 2,
   "id": "551f99cc",
   "metadata": {},
   "outputs": [],
   "source": [
    "# Función para construir el índice invertido de los archivos txt de la carpeta \"data\"\n",
    "def construir_indice_invertido(carpeta):\n",
    "    indice_invertido = {}\n",
    "    for archivo in os.listdir(carpeta):\n",
    "        if archivo.endswith(\".txt\"):\n",
    "            ruta_archivo = os.path.join(carpeta, archivo)\n",
    "            with open(ruta_archivo, \"r\", encoding=\"utf-8\") as file:\n",
    "                contenido = file.read()\n",
    "                palabras_encontradas = re.findall(r'\\b\\w+\\b', contenido.lower())\n",
    "                for palabra in palabras_encontradas:\n",
    "                    if archivo in indice_invertido:\n",
    "                        indice_invertido[archivo].add(palabra)\n",
    "                    else:\n",
    "                        indice_invertido[archivo] = {palabra}\n",
    "    return indice_invertido\n"
   ]
  },
  {
   "cell_type": "code",
   "execution_count": 8,
   "id": "120260c1",
   "metadata": {},
   "outputs": [
    {
     "name": "stdout",
     "output_type": "stream",
     "text": [
      "Ingrese la palabra que desea buscar: Rose\n"
     ]
    }
   ],
   "source": [
    "# Pedir al usuario que ingrese la palabra a buscar\n",
    "palabra_a_buscar = input(\"Ingrese la palabra que desea buscar: \")"
   ]
  },
  {
   "cell_type": "code",
   "execution_count": 9,
   "id": "ff9ae627",
   "metadata": {},
   "outputs": [],
   "source": [
    "# Carpeta donde se encuentran los archivos txt\n",
    "carpeta_data = \"data\""
   ]
  },
  {
   "cell_type": "code",
   "execution_count": 10,
   "id": "0c968cc4",
   "metadata": {},
   "outputs": [],
   "source": [
    "# Construir el índice invertido de los archivos txt de la carpeta \"data\"\n",
    "indice_invertido = construir_indice_invertido(carpeta_data)"
   ]
  },
  {
   "cell_type": "code",
   "execution_count": 11,
   "id": "bca18b55",
   "metadata": {},
   "outputs": [],
   "source": [
    "# Buscar la palabra en el índice invertido\n",
    "archivos_encontrados = [archivo for archivo, palabras in indice_invertido.items() if palabra_a_buscar in palabras]"
   ]
  },
  {
   "cell_type": "code",
   "execution_count": 12,
   "id": "c2eb70d5",
   "metadata": {},
   "outputs": [
    {
     "name": "stdout",
     "output_type": "stream",
     "text": [
      "La palabra no se encontró en ningún archivo.\n"
     ]
    }
   ],
   "source": [
    "# Imprimir los archivos donde se encontró la palabra\n",
    "if archivos_encontrados:\n",
    "    print(\"\")\n",
    "    print(\"Esa palabra aparece en los siguientes archivos:\")\n",
    "    for archivo in archivos_encontrados:\n",
    "        print(archivo)\n",
    "else:\n",
    "    print(\"La palabra no se encontró en ningún archivo.\")"
   ]
  }
 ],
 "metadata": {
  "kernelspec": {
   "display_name": "Python 3 (ipykernel)",
   "language": "python",
   "name": "python3"
  },
  "language_info": {
   "codemirror_mode": {
    "name": "ipython",
    "version": 3
   },
   "file_extension": ".py",
   "mimetype": "text/x-python",
   "name": "python",
   "nbconvert_exporter": "python",
   "pygments_lexer": "ipython3",
   "version": "3.11.7"
  }
 },
 "nbformat": 4,
 "nbformat_minor": 5
}
